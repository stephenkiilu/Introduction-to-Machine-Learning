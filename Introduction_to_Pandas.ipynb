{
  "nbformat": 4,
  "nbformat_minor": 0,
  "metadata": {
    "colab": {
      "name": "Introduction to Pandas",
      "provenance": [],
      "collapsed_sections": [
        "OyQzCUUrUrlg"
      ]
    },
    "kernelspec": {
      "name": "python3",
      "display_name": "Python 3"
    },
    "language_info": {
      "name": "python"
    },
    "accelerator": "GPU"
  },
  "cells": [
    {
      "cell_type": "markdown",
      "source": [
        "<p align=\"center\">\n",
        "<img src=\"https://www.senenews.com/wp-content/uploads/2018/02/aims-3.png\">\n",
        "</p>"
      ],
      "metadata": {
        "id": "qqemnuY5HAgc"
      }
    },
    {
      "cell_type": "markdown",
      "source": [
        "What is pandas? \\\\\n",
        "\n",
        "\n",
        "*   Python library used for working with data sets.\n",
        "*   It has functions for analyzing, cleaning, exploring, and manipulating data."
      ],
      "metadata": {
        "id": "3FGr9SlYHidW"
      }
    },
    {
      "cell_type": "markdown",
      "source": [
        "Key Features of Pandas:\n",
        "\n",
        "\n",
        "*   Fast and efficient DataFrame object with default and customized indexing.\n",
        "*   Tools for loading data into in-memory data objects from different file formats.\n",
        "*   Data alignment and integrated handling of missing data.\n",
        "*   Reshaping and pivoting of date sets.\n",
        "*   Label-based slicing, indexing and subsetting of large data sets.\n",
        "*   Columns from a data structure can be deleted or inserted.\n",
        "*   Group by data for aggregation and transformations.\n",
        "*   High performance merging and joining of data.\n",
        "\n",
        "\n",
        "\n",
        "\n",
        "\n",
        "\n",
        "\n"
      ],
      "metadata": {
        "id": "jWGP-zP8HvWi"
      }
    },
    {
      "cell_type": "markdown",
      "source": [
        "To use pandas you need to install in local machine : \n",
        "`\n",
        "!pip install pandas \n",
        "`"
      ],
      "metadata": {
        "id": "ASflJ0xVH8CM"
      }
    },
    {
      "cell_type": "code",
      "source": [
        "# Installation of pandas\n",
        "!pip install pandas"
      ],
      "metadata": {
        "colab": {
          "base_uri": "https://localhost:8080/"
        },
        "id": "j2fZm97iHiPz",
        "outputId": "5bee5c00-f202-4ac4-eb6b-1f72a003077c"
      },
      "execution_count": 1,
      "outputs": [
        {
          "output_type": "stream",
          "name": "stdout",
          "text": [
            "Requirement already satisfied: pandas in /usr/local/lib/python3.7/dist-packages (1.3.5)\n",
            "Requirement already satisfied: python-dateutil>=2.7.3 in /usr/local/lib/python3.7/dist-packages (from pandas) (2.8.2)\n",
            "Requirement already satisfied: numpy>=1.17.3 in /usr/local/lib/python3.7/dist-packages (from pandas) (1.21.5)\n",
            "Requirement already satisfied: pytz>=2017.3 in /usr/local/lib/python3.7/dist-packages (from pandas) (2018.9)\n",
            "Requirement already satisfied: six>=1.5 in /usr/local/lib/python3.7/dist-packages (from python-dateutil>=2.7.3->pandas) (1.15.0)\n"
          ]
        }
      ]
    },
    {
      "cell_type": "markdown",
      "source": [
        "alias (as) : In Python alias are an alternate name for referring to the same thing."
      ],
      "metadata": {
        "id": "JGRnEYUjJTQT"
      }
    },
    {
      "cell_type": "code",
      "execution_count": 2,
      "metadata": {
        "id": "bj07fwFyGztU"
      },
      "outputs": [],
      "source": [
        "# Import pandas as pd\n",
        "import pandas as pd"
      ]
    },
    {
      "cell_type": "markdown",
      "source": [
        "In some project you have to use an specifique version of your library .  to check the Pandas Version : ```\n",
        "pd.__version__ ``` "
      ],
      "metadata": {
        "id": "s27RwGBhJ9P6"
      }
    },
    {
      "cell_type": "code",
      "source": [
        "pd.__version__"
      ],
      "metadata": {
        "colab": {
          "base_uri": "https://localhost:8080/",
          "height": 35
        },
        "id": "yRXlJtyZJzew",
        "outputId": "3c13acab-a142-4c50-cf3e-383a3eaeb12c"
      },
      "execution_count": 3,
      "outputs": [
        {
          "output_type": "execute_result",
          "data": {
            "text/plain": [
              "'1.3.5'"
            ],
            "application/vnd.google.colaboratory.intrinsic+json": {
              "type": "string"
            }
          },
          "metadata": {},
          "execution_count": 3
        }
      ]
    },
    {
      "cell_type": "markdown",
      "source": [
        "# Introducing Pandas Objects"
      ],
      "metadata": {
        "id": "1rXdo9fbNDEV"
      }
    },
    {
      "cell_type": "markdown",
      "source": [
        "At the very basic level, Pandas objects can be thought of as enhanced versions of NumPy structured arrays in which the rows and columns are identified with labels rather than simple integer indices.\n",
        "As we will see during the course of this chapter, Pandas provides a host of useful tools, methods, and functionality on top of the basic data structures, but nearly everything that follows will require an understanding of what these structures are.\n",
        "Thus, before we go any further, let's introduce these two fundamental Pandas data structures: the ``Series``, ``DataFrame``.\n",
        "\n",
        "We will start our code sessions with the standard NumPy and Pandas imports:"
      ],
      "metadata": {
        "id": "vCtwULPrM8Fo"
      }
    },
    {
      "cell_type": "code",
      "source": [
        "import numpy as np\n",
        "import pandas as pd"
      ],
      "metadata": {
        "id": "XipSFip4KcPs"
      },
      "execution_count": 4,
      "outputs": []
    },
    {
      "cell_type": "markdown",
      "source": [
        "## The Pandas Series Object\n",
        "\n",
        "A Pandas ``Series`` is a one-dimensional array of indexed data.\n",
        "It can be created from a list or array as follows:"
      ],
      "metadata": {
        "id": "-jY5018iOWPl"
      }
    },
    {
      "cell_type": "code",
      "source": [
        "data = pd.Series([0.25, 0.5, 0.75, 1.0])\n",
        "data"
      ],
      "metadata": {
        "id": "xfSZLQkTOTAj",
        "colab": {
          "base_uri": "https://localhost:8080/"
        },
        "outputId": "6683542d-1afa-434e-f2a9-b041c24bbdff"
      },
      "execution_count": 5,
      "outputs": [
        {
          "output_type": "execute_result",
          "data": {
            "text/plain": [
              "0    0.25\n",
              "1    0.50\n",
              "2    0.75\n",
              "3    1.00\n",
              "dtype: float64"
            ]
          },
          "metadata": {},
          "execution_count": 5
        }
      ]
    },
    {
      "cell_type": "markdown",
      "source": [
        "As we see in the output, the ``Series`` wraps both a sequence of values and a sequence of indices, which we can access with the ``values`` and ``index`` attributes.\n",
        "The ``values`` are simply a familiar NumPy array:"
      ],
      "metadata": {
        "id": "8ifxGkp-Okau"
      }
    },
    {
      "cell_type": "code",
      "source": [
        "# array of the values\n",
        "data.values"
      ],
      "metadata": {
        "id": "AgFrYLISOdmP",
        "colab": {
          "base_uri": "https://localhost:8080/"
        },
        "outputId": "b0bb8cae-0478-4085-cb53-677837f69892"
      },
      "execution_count": 6,
      "outputs": [
        {
          "output_type": "execute_result",
          "data": {
            "text/plain": [
              "array([0.25, 0.5 , 0.75, 1.  ])"
            ]
          },
          "metadata": {},
          "execution_count": 6
        }
      ]
    },
    {
      "cell_type": "markdown",
      "source": [
        "The ``index`` is an array-like object of type ``pd.Index``, which we'll discuss in more detail momentarily."
      ],
      "metadata": {
        "id": "QKlMVlTDOrli"
      }
    },
    {
      "cell_type": "code",
      "source": [
        "data.index"
      ],
      "metadata": {
        "id": "xMq6sfWeOmyr",
        "colab": {
          "base_uri": "https://localhost:8080/"
        },
        "outputId": "519e417f-d4b9-4d39-9e3d-8ce1b1c53122"
      },
      "execution_count": 7,
      "outputs": [
        {
          "output_type": "execute_result",
          "data": {
            "text/plain": [
              "RangeIndex(start=0, stop=4, step=1)"
            ]
          },
          "metadata": {},
          "execution_count": 7
        }
      ]
    },
    {
      "cell_type": "markdown",
      "source": [
        "Like with a NumPy array, data can be accessed by the associated index via the familiar Python square-bracket notation:"
      ],
      "metadata": {
        "id": "M-Q7lFx1OzWX"
      }
    },
    {
      "cell_type": "code",
      "source": [
        "data[1]"
      ],
      "metadata": {
        "id": "lnzwLilyOttO",
        "colab": {
          "base_uri": "https://localhost:8080/"
        },
        "outputId": "a172c8a4-53a7-46e8-9429-81a23c1a7ad9"
      },
      "execution_count": 8,
      "outputs": [
        {
          "output_type": "execute_result",
          "data": {
            "text/plain": [
              "0.5"
            ]
          },
          "metadata": {},
          "execution_count": 8
        }
      ]
    },
    {
      "cell_type": "code",
      "source": [
        "data[1:3]"
      ],
      "metadata": {
        "id": "666krfVyO1Mg",
        "colab": {
          "base_uri": "https://localhost:8080/"
        },
        "outputId": "4d19306d-733d-4040-e6a7-f6d5d62524cf"
      },
      "execution_count": 9,
      "outputs": [
        {
          "output_type": "execute_result",
          "data": {
            "text/plain": [
              "1    0.50\n",
              "2    0.75\n",
              "dtype: float64"
            ]
          },
          "metadata": {},
          "execution_count": 9
        }
      ]
    },
    {
      "cell_type": "markdown",
      "source": [
        "As we will see, though, the Pandas ``Series`` is much more general and flexible than the one-dimensional NumPy array that it emulates."
      ],
      "metadata": {
        "id": "KpP3BKZRPFqD"
      }
    },
    {
      "cell_type": "markdown",
      "source": [
        "### ``Series`` as generalized NumPy array"
      ],
      "metadata": {
        "id": "GbumvZHJPIqz"
      }
    },
    {
      "cell_type": "markdown",
      "source": [
        "From what we've seen so far, it may look like the ``Series`` object is basically interchangeable with a one-dimensional NumPy array.\n",
        "The essential difference is the presence of the index: while the Numpy Array has an *implicitly defined* integer index used to access the values, the Pandas ``Series`` has an *explicitly defined* index associated with the values.\n",
        "\n",
        "This explicit index definition gives the ``Series`` object additional capabilities. For example, the index need not be an integer, but can consist of values of any desired type.\n",
        "For example, if we wish, we can use strings as an index:"
      ],
      "metadata": {
        "id": "zJyZXW24PK2j"
      }
    },
    {
      "cell_type": "code",
      "source": [
        "data = pd.Series([0.25, 0.5, 0.75, 1.0],\n",
        "                 index=['a', 'b', 'c', 'd'])\n",
        "data"
      ],
      "metadata": {
        "id": "ZyxjO0gFO28k",
        "colab": {
          "base_uri": "https://localhost:8080/"
        },
        "outputId": "18c7221f-4c2e-42f2-ca59-91eca034df27"
      },
      "execution_count": 10,
      "outputs": [
        {
          "output_type": "execute_result",
          "data": {
            "text/plain": [
              "a    0.25\n",
              "b    0.50\n",
              "c    0.75\n",
              "d    1.00\n",
              "dtype: float64"
            ]
          },
          "metadata": {},
          "execution_count": 10
        }
      ]
    },
    {
      "cell_type": "markdown",
      "source": [
        "And the item access works as expected:"
      ],
      "metadata": {
        "id": "9pe3K1-rPdrZ"
      }
    },
    {
      "cell_type": "code",
      "source": [
        "data['b']"
      ],
      "metadata": {
        "id": "rDZKaf-6Pamr",
        "colab": {
          "base_uri": "https://localhost:8080/"
        },
        "outputId": "f95208f9-5373-4e5c-c64b-c7c38019670e"
      },
      "execution_count": 11,
      "outputs": [
        {
          "output_type": "execute_result",
          "data": {
            "text/plain": [
              "0.5"
            ]
          },
          "metadata": {},
          "execution_count": 11
        }
      ]
    },
    {
      "cell_type": "markdown",
      "source": [
        "We can even use non-contiguous or non-sequential indices:"
      ],
      "metadata": {
        "id": "ZJI_-fNxPi0j"
      }
    },
    {
      "cell_type": "code",
      "source": [
        "data = pd.Series([0.25, 0.5, 0.75, 1.0],\n",
        "                 index=[2, 5, 3, 7])\n",
        "data"
      ],
      "metadata": {
        "id": "HZ3tQZAVPfqG",
        "colab": {
          "base_uri": "https://localhost:8080/"
        },
        "outputId": "4696ed14-5f50-4606-b0c2-0cddeee00265"
      },
      "execution_count": 12,
      "outputs": [
        {
          "output_type": "execute_result",
          "data": {
            "text/plain": [
              "2    0.25\n",
              "5    0.50\n",
              "3    0.75\n",
              "7    1.00\n",
              "dtype: float64"
            ]
          },
          "metadata": {},
          "execution_count": 12
        }
      ]
    },
    {
      "cell_type": "code",
      "source": [
        "data[5]"
      ],
      "metadata": {
        "id": "WgzniwhPPlaT",
        "colab": {
          "base_uri": "https://localhost:8080/"
        },
        "outputId": "c26a8cad-7552-45af-afe2-6aa683f3b763"
      },
      "execution_count": 13,
      "outputs": [
        {
          "output_type": "execute_result",
          "data": {
            "text/plain": [
              "0.5"
            ]
          },
          "metadata": {},
          "execution_count": 13
        }
      ]
    },
    {
      "cell_type": "markdown",
      "source": [
        "### Series as specialized dictionary\n",
        "\n",
        "The ``Series``-as-dictionary analogy can be made even more clear by constructing a ``Series`` object directly from a Python dictionary:"
      ],
      "metadata": {
        "id": "6PSB48NAShH4"
      }
    },
    {
      "cell_type": "code",
      "source": [
        "population_dict = {'Senegal': 38332521,\n",
        "                   'Cameroun': 26448193,\n",
        "                   'Mali': 19651127,\n",
        "                   'Soudan': 19552860,\n",
        "                   'Ghana': 12882135}\n",
        "population = pd.Series(population_dict)\n",
        "population"
      ],
      "metadata": {
        "id": "T_w12uJBPvpX",
        "colab": {
          "base_uri": "https://localhost:8080/"
        },
        "outputId": "f5a1877c-6bd8-413b-ba6c-620afad6ad5a"
      },
      "execution_count": 14,
      "outputs": [
        {
          "output_type": "execute_result",
          "data": {
            "text/plain": [
              "Senegal     38332521\n",
              "Cameroun    26448193\n",
              "Mali        19651127\n",
              "Soudan      19552860\n",
              "Ghana       12882135\n",
              "dtype: int64"
            ]
          },
          "metadata": {},
          "execution_count": 14
        }
      ]
    },
    {
      "cell_type": "markdown",
      "source": [
        "By default, a ``Series`` will be created where the index is drawn from the sorted keys.\n",
        "From here, typical dictionary-style item access can be performed:"
      ],
      "metadata": {
        "id": "qrzblixoTCE0"
      }
    },
    {
      "cell_type": "code",
      "source": [
        "population['Senegal']"
      ],
      "metadata": {
        "id": "lICx0FB-S8JC",
        "colab": {
          "base_uri": "https://localhost:8080/"
        },
        "outputId": "9f14edcb-81d3-475b-f899-b1f0c5511335"
      },
      "execution_count": 15,
      "outputs": [
        {
          "output_type": "execute_result",
          "data": {
            "text/plain": [
              "38332521"
            ]
          },
          "metadata": {},
          "execution_count": 15
        }
      ]
    },
    {
      "cell_type": "markdown",
      "source": [
        "Unlike a dictionary, though, the ``Series`` also supports array-style operations such as slicing:"
      ],
      "metadata": {
        "id": "o4pIG8j-TJom"
      }
    },
    {
      "cell_type": "code",
      "source": [
        "population['Senegal':'Soudan']"
      ],
      "metadata": {
        "id": "EJbuWasGTEs2",
        "colab": {
          "base_uri": "https://localhost:8080/"
        },
        "outputId": "fca8b984-8cb1-459a-f8ea-9435a4381304"
      },
      "execution_count": 16,
      "outputs": [
        {
          "output_type": "execute_result",
          "data": {
            "text/plain": [
              "Senegal     38332521\n",
              "Cameroun    26448193\n",
              "Mali        19651127\n",
              "Soudan      19552860\n",
              "dtype: int64"
            ]
          },
          "metadata": {},
          "execution_count": 16
        }
      ]
    },
    {
      "cell_type": "markdown",
      "source": [
        "### Constructing Series objects\n",
        "\n",
        "We've already seen a few ways of constructing a Pandas ``Series`` from scratch; all of them are some version of the following:\n",
        "\n",
        "```python\n",
        ">>> pd.Series(data, index=index)\n",
        "```\n",
        "\n",
        "where ``index`` is an optional argument, and ``data`` can be one of many entities.\n",
        "\n",
        "For example, ``data`` can be a list or NumPy array, in which case ``index`` defaults to an integer sequence:"
      ],
      "metadata": {
        "id": "fOCgpJ4ATp-g"
      }
    },
    {
      "cell_type": "code",
      "source": [
        "pd.Series([2, 4, 6])"
      ],
      "metadata": {
        "id": "m8CH9ZG2TM0j",
        "colab": {
          "base_uri": "https://localhost:8080/"
        },
        "outputId": "16b1b8df-af20-41f5-9a21-68e8897b6db1"
      },
      "execution_count": 17,
      "outputs": [
        {
          "output_type": "execute_result",
          "data": {
            "text/plain": [
              "0    2\n",
              "1    4\n",
              "2    6\n",
              "dtype: int64"
            ]
          },
          "metadata": {},
          "execution_count": 17
        }
      ]
    },
    {
      "cell_type": "markdown",
      "source": [
        "``data`` can be a scalar, which is repeated to fill the specified index:"
      ],
      "metadata": {
        "id": "npDO9C87Tu3M"
      }
    },
    {
      "cell_type": "code",
      "source": [
        "# broadcasting\n",
        "pd.Series(5, index=[100, 200, 300])"
      ],
      "metadata": {
        "id": "u_dQO2cITsnv",
        "colab": {
          "base_uri": "https://localhost:8080/"
        },
        "outputId": "8c4a0ca5-fa34-481e-ad72-80bd97593edd"
      },
      "execution_count": 18,
      "outputs": [
        {
          "output_type": "execute_result",
          "data": {
            "text/plain": [
              "100    5\n",
              "200    5\n",
              "300    5\n",
              "dtype: int64"
            ]
          },
          "metadata": {},
          "execution_count": 18
        }
      ]
    },
    {
      "cell_type": "markdown",
      "source": [
        "``data`` can be a dictionary, in which ``index`` defaults to the sorted dictionary keys:"
      ],
      "metadata": {
        "id": "TLKnH31pT7qm"
      }
    },
    {
      "cell_type": "code",
      "source": [
        "pd.Series({2:'a', 1:'b', 3:'c'})"
      ],
      "metadata": {
        "id": "t2euHXnKTwz6",
        "colab": {
          "base_uri": "https://localhost:8080/"
        },
        "outputId": "d07ed7e1-13cb-45a6-c7ec-bd24f8e1ea49"
      },
      "execution_count": 19,
      "outputs": [
        {
          "output_type": "execute_result",
          "data": {
            "text/plain": [
              "2    a\n",
              "1    b\n",
              "3    c\n",
              "dtype: object"
            ]
          },
          "metadata": {},
          "execution_count": 19
        }
      ]
    },
    {
      "cell_type": "markdown",
      "source": [
        "In each case, the index can be explicitly set if a different result is preferred:"
      ],
      "metadata": {
        "id": "llNd0EAxT_yZ"
      }
    },
    {
      "cell_type": "code",
      "source": [
        "pd.Series({2:'a', 1:'b', 3:'c'}, index=[3, 2])"
      ],
      "metadata": {
        "id": "W_WzEorLT9vR",
        "colab": {
          "base_uri": "https://localhost:8080/"
        },
        "outputId": "c2cfe0c1-8e6e-44db-ca41-b645046607df"
      },
      "execution_count": 20,
      "outputs": [
        {
          "output_type": "execute_result",
          "data": {
            "text/plain": [
              "3    c\n",
              "2    a\n",
              "dtype: object"
            ]
          },
          "metadata": {},
          "execution_count": 20
        }
      ]
    },
    {
      "cell_type": "markdown",
      "source": [
        "Notice that in this case, the ``Series`` is populated only with the explicitly identified keys."
      ],
      "metadata": {
        "id": "Imu1mW_-UJRI"
      }
    },
    {
      "cell_type": "markdown",
      "source": [
        "### The Pandas DataFrame Object\n",
        "\n",
        "The next fundamental structure in Pandas is the ``DataFrame``.\n",
        "Like the ``Series`` object discussed in the previous section, the ``DataFrame`` can be thought of either as a generalization of a NumPy array, or as a specialization of a Python dictionary.\n",
        "We'll now take a look at each of these perspectives."
      ],
      "metadata": {
        "id": "OyQzCUUrUrlg"
      }
    },
    {
      "cell_type": "markdown",
      "source": [
        "### DataFrame as a generalized NumPy array\n",
        "If a ``Series`` is an analog of a one-dimensional array with flexible indices, a ``DataFrame`` is an analog of a two-dimensional array with both flexible row indices and flexible column names.\n",
        "Just as you might think of a two-dimensional array as an ordered sequence of aligned one-dimensional columns, you can think of a ``DataFrame`` as a sequence of aligned ``Series`` objects.\n",
        "Here, by \"aligned\" we mean that they share the same index.\n",
        "\n",
        "To demonstrate this, let's first construct a new ``Series`` listing the area of each of the five states discussed in the previous section:"
      ],
      "metadata": {
        "id": "tqL_2pDVUuAO"
      }
    },
    {
      "cell_type": "code",
      "source": [
        "area_dict = {'Senegal': 423967, 'Cameroun': 695662, 'Mali': 141297,\n",
        "             'Sudan': 170312, 'Ghana': 149995}\n",
        "area = pd.Series(area_dict)\n",
        "area"
      ],
      "metadata": {
        "id": "SgP4kgJ7UBjy"
      },
      "execution_count": null,
      "outputs": []
    },
    {
      "cell_type": "markdown",
      "source": [
        "Now that we have this along with the ``population`` Series from before, we can use a dictionary to construct a single two-dimensional object containing this information:"
      ],
      "metadata": {
        "id": "2bEwVn08VSJo"
      }
    },
    {
      "cell_type": "code",
      "source": [
        "states = pd.DataFrame({'population': population,\n",
        "                       'area': area})\n",
        "states"
      ],
      "metadata": {
        "id": "ivC91VExVQG3"
      },
      "execution_count": null,
      "outputs": []
    },
    {
      "cell_type": "markdown",
      "source": [
        "Like the ``Series`` object, the ``DataFrame`` has an ``index`` attribute that gives access to the index labels:"
      ],
      "metadata": {
        "id": "quBdTXQ5Vnn6"
      }
    },
    {
      "cell_type": "code",
      "source": [
        "states.index"
      ],
      "metadata": {
        "id": "XpfjFEj4VTwu",
        "colab": {
          "base_uri": "https://localhost:8080/"
        },
        "outputId": "4be10f4d-7542-45d5-9398-aba28985e65d"
      },
      "execution_count": 23,
      "outputs": [
        {
          "output_type": "execute_result",
          "data": {
            "text/plain": [
              "Index(['Cameroun', 'Ghana', 'Mali', 'Senegal', 'Soudan', 'Sudan'], dtype='object')"
            ]
          },
          "metadata": {},
          "execution_count": 23
        }
      ]
    },
    {
      "cell_type": "markdown",
      "source": [
        "Additionally, the ``DataFrame`` has a ``columns`` attribute, which is an ``Index`` object holding the column labels:"
      ],
      "metadata": {
        "id": "cvL14j1gVrqd"
      }
    },
    {
      "cell_type": "code",
      "source": [
        "states.columns"
      ],
      "metadata": {
        "id": "a1YdJqi_VpaY"
      },
      "execution_count": null,
      "outputs": []
    },
    {
      "cell_type": "markdown",
      "source": [
        "the ``DataFrame`` can be thought of as a generalization of a two-dimensional NumPy array, where both the rows and columns have a generalized index for accessing the data."
      ],
      "metadata": {
        "id": "fVC1lpAKVzS_"
      }
    },
    {
      "cell_type": "markdown",
      "source": [
        "### DataFrame as specialized dictionary\n",
        "\n",
        "Similarly, we can also think of a ``DataFrame`` as a specialization of a dictionary.\n",
        "Where a dictionary maps a key to a value, a ``DataFrame`` maps a column name to a ``Series`` of column data.\n",
        "For example, asking for the ``'area'`` attribute returns the ``Series`` object containing the areas we saw earlier:"
      ],
      "metadata": {
        "id": "QtoAmLPcV79A"
      }
    },
    {
      "cell_type": "code",
      "source": [
        "states['area']"
      ],
      "metadata": {
        "id": "kTPUgfScVua_"
      },
      "execution_count": null,
      "outputs": []
    },
    {
      "cell_type": "markdown",
      "source": [
        "### Constructing DataFrame objects\n",
        "\n",
        "A Pandas ``DataFrame`` can be constructed in a variety of ways.\n",
        "Here we'll give several examples."
      ],
      "metadata": {
        "id": "DK-nWS84WYBp"
      }
    },
    {
      "cell_type": "markdown",
      "source": [
        "#### From a single Series object\n",
        "\n",
        "A ``DataFrame`` is a collection of ``Series`` objects, and a single-column ``DataFrame`` can be constructed from a single ``Series``:"
      ],
      "metadata": {
        "id": "bITC5pbPWaa1"
      }
    },
    {
      "cell_type": "code",
      "source": [
        "pd.DataFrame(population,columns=['population'])"
      ],
      "metadata": {
        "id": "Ve_12wtuV-Ls"
      },
      "execution_count": null,
      "outputs": []
    },
    {
      "cell_type": "markdown",
      "source": [
        "#### From a list of dicts\n",
        "\n",
        "Any list of dictionaries can be made into a ``DataFrame``.\n",
        "We'll use a simple list comprehension to create some data:"
      ],
      "metadata": {
        "id": "L2M8qzA5Wkni"
      }
    },
    {
      "cell_type": "code",
      "source": [
        "data = [{'a': i, 'b': 2 * i} for i in range(3)]\n",
        "pd.DataFrame(data)"
      ],
      "metadata": {
        "id": "I_p8K4MpWdPS"
      },
      "execution_count": null,
      "outputs": []
    },
    {
      "cell_type": "markdown",
      "source": [
        "Even if some keys in the dictionary are missing, Pandas will fill them in with ``NaN`` (i.e., \"not a number\") values:"
      ],
      "metadata": {
        "id": "GhzNVj-7Wwd3"
      }
    },
    {
      "cell_type": "code",
      "source": [
        "pd.DataFrame([{'a': 1, 'b': 2}, {'b': 3, 'c': 4}])"
      ],
      "metadata": {
        "id": "neZjDWXDWo_E",
        "colab": {
          "base_uri": "https://localhost:8080/",
          "height": 112
        },
        "outputId": "77bd9a81-1893-4e15-ee4e-4459dfc4be30"
      },
      "execution_count": 28,
      "outputs": [
        {
          "output_type": "execute_result",
          "data": {
            "text/plain": [
              "     a  b    c\n",
              "0  1.0  2  NaN\n",
              "1  NaN  3  4.0"
            ],
            "text/html": [
              "\n",
              "  <div id=\"df-99a7f600-665c-4494-ba5b-e73bd8adf761\">\n",
              "    <div class=\"colab-df-container\">\n",
              "      <div>\n",
              "<style scoped>\n",
              "    .dataframe tbody tr th:only-of-type {\n",
              "        vertical-align: middle;\n",
              "    }\n",
              "\n",
              "    .dataframe tbody tr th {\n",
              "        vertical-align: top;\n",
              "    }\n",
              "\n",
              "    .dataframe thead th {\n",
              "        text-align: right;\n",
              "    }\n",
              "</style>\n",
              "<table border=\"1\" class=\"dataframe\">\n",
              "  <thead>\n",
              "    <tr style=\"text-align: right;\">\n",
              "      <th></th>\n",
              "      <th>a</th>\n",
              "      <th>b</th>\n",
              "      <th>c</th>\n",
              "    </tr>\n",
              "  </thead>\n",
              "  <tbody>\n",
              "    <tr>\n",
              "      <th>0</th>\n",
              "      <td>1.0</td>\n",
              "      <td>2</td>\n",
              "      <td>NaN</td>\n",
              "    </tr>\n",
              "    <tr>\n",
              "      <th>1</th>\n",
              "      <td>NaN</td>\n",
              "      <td>3</td>\n",
              "      <td>4.0</td>\n",
              "    </tr>\n",
              "  </tbody>\n",
              "</table>\n",
              "</div>\n",
              "      <button class=\"colab-df-convert\" onclick=\"convertToInteractive('df-99a7f600-665c-4494-ba5b-e73bd8adf761')\"\n",
              "              title=\"Convert this dataframe to an interactive table.\"\n",
              "              style=\"display:none;\">\n",
              "        \n",
              "  <svg xmlns=\"http://www.w3.org/2000/svg\" height=\"24px\"viewBox=\"0 0 24 24\"\n",
              "       width=\"24px\">\n",
              "    <path d=\"M0 0h24v24H0V0z\" fill=\"none\"/>\n",
              "    <path d=\"M18.56 5.44l.94 2.06.94-2.06 2.06-.94-2.06-.94-.94-2.06-.94 2.06-2.06.94zm-11 1L8.5 8.5l.94-2.06 2.06-.94-2.06-.94L8.5 2.5l-.94 2.06-2.06.94zm10 10l.94 2.06.94-2.06 2.06-.94-2.06-.94-.94-2.06-.94 2.06-2.06.94z\"/><path d=\"M17.41 7.96l-1.37-1.37c-.4-.4-.92-.59-1.43-.59-.52 0-1.04.2-1.43.59L10.3 9.45l-7.72 7.72c-.78.78-.78 2.05 0 2.83L4 21.41c.39.39.9.59 1.41.59.51 0 1.02-.2 1.41-.59l7.78-7.78 2.81-2.81c.8-.78.8-2.07 0-2.86zM5.41 20L4 18.59l7.72-7.72 1.47 1.35L5.41 20z\"/>\n",
              "  </svg>\n",
              "      </button>\n",
              "      \n",
              "  <style>\n",
              "    .colab-df-container {\n",
              "      display:flex;\n",
              "      flex-wrap:wrap;\n",
              "      gap: 12px;\n",
              "    }\n",
              "\n",
              "    .colab-df-convert {\n",
              "      background-color: #E8F0FE;\n",
              "      border: none;\n",
              "      border-radius: 50%;\n",
              "      cursor: pointer;\n",
              "      display: none;\n",
              "      fill: #1967D2;\n",
              "      height: 32px;\n",
              "      padding: 0 0 0 0;\n",
              "      width: 32px;\n",
              "    }\n",
              "\n",
              "    .colab-df-convert:hover {\n",
              "      background-color: #E2EBFA;\n",
              "      box-shadow: 0px 1px 2px rgba(60, 64, 67, 0.3), 0px 1px 3px 1px rgba(60, 64, 67, 0.15);\n",
              "      fill: #174EA6;\n",
              "    }\n",
              "\n",
              "    [theme=dark] .colab-df-convert {\n",
              "      background-color: #3B4455;\n",
              "      fill: #D2E3FC;\n",
              "    }\n",
              "\n",
              "    [theme=dark] .colab-df-convert:hover {\n",
              "      background-color: #434B5C;\n",
              "      box-shadow: 0px 1px 3px 1px rgba(0, 0, 0, 0.15);\n",
              "      filter: drop-shadow(0px 1px 2px rgba(0, 0, 0, 0.3));\n",
              "      fill: #FFFFFF;\n",
              "    }\n",
              "  </style>\n",
              "\n",
              "      <script>\n",
              "        const buttonEl =\n",
              "          document.querySelector('#df-99a7f600-665c-4494-ba5b-e73bd8adf761 button.colab-df-convert');\n",
              "        buttonEl.style.display =\n",
              "          google.colab.kernel.accessAllowed ? 'block' : 'none';\n",
              "\n",
              "        async function convertToInteractive(key) {\n",
              "          const element = document.querySelector('#df-99a7f600-665c-4494-ba5b-e73bd8adf761');\n",
              "          const dataTable =\n",
              "            await google.colab.kernel.invokeFunction('convertToInteractive',\n",
              "                                                     [key], {});\n",
              "          if (!dataTable) return;\n",
              "\n",
              "          const docLinkHtml = 'Like what you see? Visit the ' +\n",
              "            '<a target=\"_blank\" href=https://colab.research.google.com/notebooks/data_table.ipynb>data table notebook</a>'\n",
              "            + ' to learn more about interactive tables.';\n",
              "          element.innerHTML = '';\n",
              "          dataTable['output_type'] = 'display_data';\n",
              "          await google.colab.output.renderOutput(dataTable, element);\n",
              "          const docLink = document.createElement('div');\n",
              "          docLink.innerHTML = docLinkHtml;\n",
              "          element.appendChild(docLink);\n",
              "        }\n",
              "      </script>\n",
              "    </div>\n",
              "  </div>\n",
              "  "
            ]
          },
          "metadata": {},
          "execution_count": 28
        }
      ]
    },
    {
      "cell_type": "markdown",
      "source": [
        "#### From a dictionary of Series objects\n",
        "\n",
        "As we saw before, a ``DataFrame`` can be constructed from a dictionary of ``Series`` objects as well:"
      ],
      "metadata": {
        "id": "33EO6ChCW7-J"
      }
    },
    {
      "cell_type": "code",
      "source": [
        "pd.DataFrame({'population': population,'area': area})"
      ],
      "metadata": {
        "id": "9Cl172VOW0V9"
      },
      "execution_count": null,
      "outputs": []
    },
    {
      "cell_type": "markdown",
      "source": [
        "#### From a two-dimensional NumPy array\n",
        "\n",
        "Given a two-dimensional array of data, we can create a ``DataFrame`` with any specified column and index names.\n",
        "If omitted, an integer index will be used for each:"
      ],
      "metadata": {
        "id": "yxY98ciNXMIy"
      }
    },
    {
      "cell_type": "code",
      "source": [
        "pd.DataFrame(np.random.rand(3, 2),\n",
        "             columns=['foo', 'bar'],\n",
        "             index=['a', 'b', 'c'])"
      ],
      "metadata": {
        "id": "J5Jqx71tW_Pb",
        "colab": {
          "base_uri": "https://localhost:8080/",
          "height": 143
        },
        "outputId": "261d158c-49ec-4b0a-abc7-d7785b8ba1aa"
      },
      "execution_count": 30,
      "outputs": [
        {
          "output_type": "execute_result",
          "data": {
            "text/plain": [
              "        foo       bar\n",
              "a  0.065527  0.880161\n",
              "b  0.803395  0.557323\n",
              "c  0.721230  0.383473"
            ],
            "text/html": [
              "\n",
              "  <div id=\"df-21b18d1a-0658-4b53-af17-01f3552f4cf6\">\n",
              "    <div class=\"colab-df-container\">\n",
              "      <div>\n",
              "<style scoped>\n",
              "    .dataframe tbody tr th:only-of-type {\n",
              "        vertical-align: middle;\n",
              "    }\n",
              "\n",
              "    .dataframe tbody tr th {\n",
              "        vertical-align: top;\n",
              "    }\n",
              "\n",
              "    .dataframe thead th {\n",
              "        text-align: right;\n",
              "    }\n",
              "</style>\n",
              "<table border=\"1\" class=\"dataframe\">\n",
              "  <thead>\n",
              "    <tr style=\"text-align: right;\">\n",
              "      <th></th>\n",
              "      <th>foo</th>\n",
              "      <th>bar</th>\n",
              "    </tr>\n",
              "  </thead>\n",
              "  <tbody>\n",
              "    <tr>\n",
              "      <th>a</th>\n",
              "      <td>0.065527</td>\n",
              "      <td>0.880161</td>\n",
              "    </tr>\n",
              "    <tr>\n",
              "      <th>b</th>\n",
              "      <td>0.803395</td>\n",
              "      <td>0.557323</td>\n",
              "    </tr>\n",
              "    <tr>\n",
              "      <th>c</th>\n",
              "      <td>0.721230</td>\n",
              "      <td>0.383473</td>\n",
              "    </tr>\n",
              "  </tbody>\n",
              "</table>\n",
              "</div>\n",
              "      <button class=\"colab-df-convert\" onclick=\"convertToInteractive('df-21b18d1a-0658-4b53-af17-01f3552f4cf6')\"\n",
              "              title=\"Convert this dataframe to an interactive table.\"\n",
              "              style=\"display:none;\">\n",
              "        \n",
              "  <svg xmlns=\"http://www.w3.org/2000/svg\" height=\"24px\"viewBox=\"0 0 24 24\"\n",
              "       width=\"24px\">\n",
              "    <path d=\"M0 0h24v24H0V0z\" fill=\"none\"/>\n",
              "    <path d=\"M18.56 5.44l.94 2.06.94-2.06 2.06-.94-2.06-.94-.94-2.06-.94 2.06-2.06.94zm-11 1L8.5 8.5l.94-2.06 2.06-.94-2.06-.94L8.5 2.5l-.94 2.06-2.06.94zm10 10l.94 2.06.94-2.06 2.06-.94-2.06-.94-.94-2.06-.94 2.06-2.06.94z\"/><path d=\"M17.41 7.96l-1.37-1.37c-.4-.4-.92-.59-1.43-.59-.52 0-1.04.2-1.43.59L10.3 9.45l-7.72 7.72c-.78.78-.78 2.05 0 2.83L4 21.41c.39.39.9.59 1.41.59.51 0 1.02-.2 1.41-.59l7.78-7.78 2.81-2.81c.8-.78.8-2.07 0-2.86zM5.41 20L4 18.59l7.72-7.72 1.47 1.35L5.41 20z\"/>\n",
              "  </svg>\n",
              "      </button>\n",
              "      \n",
              "  <style>\n",
              "    .colab-df-container {\n",
              "      display:flex;\n",
              "      flex-wrap:wrap;\n",
              "      gap: 12px;\n",
              "    }\n",
              "\n",
              "    .colab-df-convert {\n",
              "      background-color: #E8F0FE;\n",
              "      border: none;\n",
              "      border-radius: 50%;\n",
              "      cursor: pointer;\n",
              "      display: none;\n",
              "      fill: #1967D2;\n",
              "      height: 32px;\n",
              "      padding: 0 0 0 0;\n",
              "      width: 32px;\n",
              "    }\n",
              "\n",
              "    .colab-df-convert:hover {\n",
              "      background-color: #E2EBFA;\n",
              "      box-shadow: 0px 1px 2px rgba(60, 64, 67, 0.3), 0px 1px 3px 1px rgba(60, 64, 67, 0.15);\n",
              "      fill: #174EA6;\n",
              "    }\n",
              "\n",
              "    [theme=dark] .colab-df-convert {\n",
              "      background-color: #3B4455;\n",
              "      fill: #D2E3FC;\n",
              "    }\n",
              "\n",
              "    [theme=dark] .colab-df-convert:hover {\n",
              "      background-color: #434B5C;\n",
              "      box-shadow: 0px 1px 3px 1px rgba(0, 0, 0, 0.15);\n",
              "      filter: drop-shadow(0px 1px 2px rgba(0, 0, 0, 0.3));\n",
              "      fill: #FFFFFF;\n",
              "    }\n",
              "  </style>\n",
              "\n",
              "      <script>\n",
              "        const buttonEl =\n",
              "          document.querySelector('#df-21b18d1a-0658-4b53-af17-01f3552f4cf6 button.colab-df-convert');\n",
              "        buttonEl.style.display =\n",
              "          google.colab.kernel.accessAllowed ? 'block' : 'none';\n",
              "\n",
              "        async function convertToInteractive(key) {\n",
              "          const element = document.querySelector('#df-21b18d1a-0658-4b53-af17-01f3552f4cf6');\n",
              "          const dataTable =\n",
              "            await google.colab.kernel.invokeFunction('convertToInteractive',\n",
              "                                                     [key], {});\n",
              "          if (!dataTable) return;\n",
              "\n",
              "          const docLinkHtml = 'Like what you see? Visit the ' +\n",
              "            '<a target=\"_blank\" href=https://colab.research.google.com/notebooks/data_table.ipynb>data table notebook</a>'\n",
              "            + ' to learn more about interactive tables.';\n",
              "          element.innerHTML = '';\n",
              "          dataTable['output_type'] = 'display_data';\n",
              "          await google.colab.output.renderOutput(dataTable, element);\n",
              "          const docLink = document.createElement('div');\n",
              "          docLink.innerHTML = docLinkHtml;\n",
              "          element.appendChild(docLink);\n",
              "        }\n",
              "      </script>\n",
              "    </div>\n",
              "  </div>\n",
              "  "
            ]
          },
          "metadata": {},
          "execution_count": 30
        }
      ]
    },
    {
      "cell_type": "markdown",
      "source": [
        "### Reading data files"
      ],
      "metadata": {
        "id": "ob-Qh_bXzEDG"
      }
    },
    {
      "cell_type": "markdown",
      "source": [
        "Data can be stored in any of a number of different forms and formats. By far the most basic of these is the humble CSV file. When you open a CSV file you get something that looks like this:\n",
        "\n",
        "```\n",
        "Product A,Product B,Product C,\n",
        "30,21,9,\n",
        "35,34,1,\n",
        "41,11,11\n",
        "```\n",
        "\n",
        "So a CSV file is a table of values separated by commas. Hence the name: \"Comma-Separated Values\", or CSV.\n",
        "\n",
        "Let's now set aside our toy datasets and see what a real dataset looks like when we read it into a DataFrame. We'll use the `pd.read_csv()` function to read the data into a DataFrame. This goes thusly: `data = pd.read_csv(\"filename.csv\")`"
      ],
      "metadata": {
        "id": "oFLJhtFbzYIO"
      }
    },
    {
      "cell_type": "code",
      "source": [
        "import pandas as pd "
      ],
      "metadata": {
        "id": "QLtoL7qO6ReI"
      },
      "execution_count": 31,
      "outputs": []
    },
    {
      "cell_type": "code",
      "source": [
        "data = pd.read_csv(\"/content/sample_data/california_housing_train.csv\")"
      ],
      "metadata": {
        "id": "F9Mzf7H13cXU"
      },
      "execution_count": 32,
      "outputs": []
    },
    {
      "cell_type": "markdown",
      "source": [
        "We can use the `shape` attribute to check how large the resulting DataFrame is:"
      ],
      "metadata": {
        "id": "g_SWwQ_r6XWN"
      }
    },
    {
      "cell_type": "code",
      "source": [
        "data.shape"
      ],
      "metadata": {
        "id": "JTml63bZ6ZJU",
        "colab": {
          "base_uri": "https://localhost:8080/"
        },
        "outputId": "b656c37a-727b-4b3f-c681-d39cc776fa93"
      },
      "execution_count": 33,
      "outputs": [
        {
          "output_type": "execute_result",
          "data": {
            "text/plain": [
              "(17000, 9)"
            ]
          },
          "metadata": {},
          "execution_count": 33
        }
      ]
    },
    {
      "cell_type": "markdown",
      "source": [
        "So our new DataFrame has 17,000 records split across 9 different columns.\n",
        "\n",
        "We can examine the contents of the resultant DataFrame using the `head()` command, which grabs the first five rows:"
      ],
      "metadata": {
        "id": "RzK-zrHQ6jNq"
      }
    },
    {
      "cell_type": "code",
      "source": [
        "data.head()"
      ],
      "metadata": {
        "id": "LucoKFDY6Y1Z"
      },
      "execution_count": null,
      "outputs": []
    },
    {
      "cell_type": "markdown",
      "source": [
        "How we can save the file in our local machine ??\n",
        "\n",
        "*** Exercice*** 😊"
      ],
      "metadata": {
        "id": "jCyrlFrz3gxv"
      }
    },
    {
      "cell_type": "code",
      "source": [
        "data.to_csv('Stevepandas',index=False)"
      ],
      "metadata": {
        "id": "oWhqDcRuEx-T"
      },
      "execution_count": 35,
      "outputs": []
    },
    {
      "cell_type": "markdown",
      "source": [
        "# Indexing, Selecting & Assigning"
      ],
      "metadata": {
        "id": "8mtBdCIxi2X8"
      }
    },
    {
      "cell_type": "markdown",
      "source": [
        "Selecting specific values of a pandas DataFrame or Series to work on is an implicit step in almost any data operation you'll run, so one of the first things you need to learn in working with data in Python is how to go about selecting the data points relevant to you quickly and effectively."
      ],
      "metadata": {
        "id": "e-3TngSFi4x_"
      }
    },
    {
      "cell_type": "markdown",
      "source": [
        "## Native accessors\n",
        "\n",
        "Native Python objects provide  good ways of indexing data. Pandas carries all of these over, which helps make it easy to start with.\n",
        "\n",
        "Consider this DataFrame:"
      ],
      "metadata": {
        "id": "Nm4qy7_7AfD-"
      }
    },
    {
      "cell_type": "code",
      "source": [
        "import pandas as pd "
      ],
      "metadata": {
        "id": "Me4G4eNBArfi"
      },
      "execution_count": 36,
      "outputs": []
    },
    {
      "cell_type": "code",
      "source": [
        "data = pd.read_csv(\"/content/sample_data/california_housing_train.csv\")"
      ],
      "metadata": {
        "id": "62ocGs8cAeQ5"
      },
      "execution_count": 37,
      "outputs": []
    },
    {
      "cell_type": "markdown",
      "source": [
        "In Python, we can access the property of an object by accessing it as an attribute. A `book` object, for example, might have a `title` property, which we can access by calling `book.title`. Columns in a pandas DataFrame work in much the same way. \n",
        "\n",
        "Hence to access the `median_house_value` property of `data` we can use:"
      ],
      "metadata": {
        "id": "ugXi20fWCkXZ"
      }
    },
    {
      "cell_type": "code",
      "source": [
        "data.median_house_value"
      ],
      "metadata": {
        "id": "6MlrL-75CkBL"
      },
      "execution_count": null,
      "outputs": []
    },
    {
      "cell_type": "markdown",
      "source": [
        "If we have a Python dictionary, we can access its values using the indexing (`[]`) operator. We can do the same with columns in a DataFrame:"
      ],
      "metadata": {
        "id": "2ZM0yCxAC-uA"
      }
    },
    {
      "cell_type": "code",
      "source": [
        "data['median_house_value']# series\n",
        "data.iloc[0]\n",
        "#data"
      ],
      "metadata": {
        "id": "tpNZVzGpAeO0"
      },
      "execution_count": null,
      "outputs": []
    },
    {
      "cell_type": "code",
      "source": [
        "data[['median_house_value']]# dataframe"
      ],
      "metadata": {
        "id": "YdM8k4giRs-x"
      },
      "execution_count": null,
      "outputs": []
    },
    {
      "cell_type": "markdown",
      "source": [
        "These are the two ways of selecting a specific Series out of a DataFrame.\n",
        "\n",
        "Doesn't a pandas Series look kind of like a fancy dictionary? It pretty much is, so it's no surprise that, to drill down to a single specific value, we need only use the indexing operator `[]` once more:"
      ],
      "metadata": {
        "id": "qI5p4PU1Gq8o"
      }
    },
    {
      "cell_type": "code",
      "source": [
        "data['median_house_value'][0]"
      ],
      "metadata": {
        "id": "KYsNL--9HJnG"
      },
      "execution_count": null,
      "outputs": []
    },
    {
      "cell_type": "markdown",
      "source": [
        "## Indexing in pandas\n",
        "\n",
        "The indexing operator and attribute selection are nice because they work just like they do in the rest of the Python ecosystem. As a novice, this makes them easy to pick up and use. However, pandas has its own accessor operators, `loc` and `iloc`. For more advanced operations, these are the ones you're supposed to be using.\n",
        "\n",
        "### Index-based selection\n",
        "\n",
        "Pandas indexing works in one of two paradigms. The first is **index-based selection**: selecting data based on its numerical position in the data. `iloc` follows this paradigm.\n",
        "\n",
        "To select the first row of data in a DataFrame, we may use the following:"
      ],
      "metadata": {
        "id": "8ionfI_gFZ7H"
      }
    },
    {
      "cell_type": "code",
      "source": [
        "data.iloc[0]"
      ],
      "metadata": {
        "id": "HHt3KuBRAeNB"
      },
      "execution_count": null,
      "outputs": []
    },
    {
      "cell_type": "markdown",
      "source": [
        "Both `loc` and `iloc` are row-first, column-second. This is the opposite of what we do in native Python, which is column-first, row-second.\n",
        "\n",
        "This means that it's marginally easier to retrieve rows, and marginally harder to get retrieve columns. To get a column with `iloc`, we can do the following:"
      ],
      "metadata": {
        "id": "207Nb5K7GH7Q"
      }
    },
    {
      "cell_type": "code",
      "source": [
        "data.iloc[:,0]"
      ],
      "metadata": {
        "id": "ragEmCUtAeLG"
      },
      "execution_count": null,
      "outputs": []
    },
    {
      "cell_type": "markdown",
      "source": [
        "On its own, the `:` operator, which also comes from native Python, means \"everything\". When combined with other selectors, however, it can be used to indicate a range of values. For example, to select the `country` column from just the first, second, and third row, we would do:"
      ],
      "metadata": {
        "id": "-KAgT6CnJ0sV"
      }
    },
    {
      "cell_type": "code",
      "source": [
        "data.iloc[:3,0]\n"
      ],
      "metadata": {
        "id": "sMeyeIydAeFg",
        "colab": {
          "base_uri": "https://localhost:8080/"
        },
        "outputId": "1fa1058f-071c-4b45-9dac-6c6002ae411f"
      },
      "execution_count": 44,
      "outputs": [
        {
          "output_type": "execute_result",
          "data": {
            "text/plain": [
              "0   -114.31\n",
              "1   -114.47\n",
              "2   -114.56\n",
              "Name: longitude, dtype: float64"
            ]
          },
          "metadata": {},
          "execution_count": 44
        }
      ]
    },
    {
      "cell_type": "markdown",
      "source": [
        "Or, to select just the second and third entries, we would do:"
      ],
      "metadata": {
        "id": "70jcQX-3LtvW"
      }
    },
    {
      "cell_type": "code",
      "source": [
        "data.iloc[1:3, 0]"
      ],
      "metadata": {
        "id": "pPoxHYGmAd_-"
      },
      "execution_count": null,
      "outputs": []
    },
    {
      "cell_type": "markdown",
      "source": [
        "It's also possible to pass a list:"
      ],
      "metadata": {
        "id": "qtRNfNtPMAvA"
      }
    },
    {
      "cell_type": "code",
      "source": [
        "data.iloc[[0, 1, 2], 0]"
      ],
      "metadata": {
        "id": "C3ToGepBAd2n"
      },
      "execution_count": null,
      "outputs": []
    },
    {
      "cell_type": "code",
      "source": [
        ""
      ],
      "metadata": {
        "id": "bKJsoxz1TTgt"
      },
      "execution_count": 46,
      "outputs": []
    },
    {
      "cell_type": "markdown",
      "source": [
        "Finally, it's worth knowing that negative numbers can be used in selection. This will start counting forwards from the _end_ of the values. So for example here are the last five elements of the dataset."
      ],
      "metadata": {
        "id": "P7GB4B6qMbEG"
      }
    },
    {
      "cell_type": "code",
      "source": [
        "data.iloc[-5:]"
      ],
      "metadata": {
        "id": "KZ-lORb9AdpJ"
      },
      "execution_count": null,
      "outputs": []
    },
    {
      "cell_type": "markdown",
      "source": [
        "### Label-based selection\n",
        "\n",
        "The second paradigm for attribute selection is the one followed by the `loc` operator: **label-based selection**. In this paradigm, it's the data index value, not its position, which matters.\n",
        "\n",
        "For example, to get the first entry in `data`, we would now do the following:"
      ],
      "metadata": {
        "id": "4KLqdXgwMmQt"
      }
    },
    {
      "cell_type": "code",
      "source": [
        "data.loc[0 , \"longitude\"]"
      ],
      "metadata": {
        "colab": {
          "base_uri": "https://localhost:8080/"
        },
        "id": "PYxDAur_MM49",
        "outputId": "0c9d1bae-ca75-4370-c4ab-b7a360cf2b01"
      },
      "execution_count": 48,
      "outputs": [
        {
          "output_type": "execute_result",
          "data": {
            "text/plain": [
              "-114.31"
            ]
          },
          "metadata": {},
          "execution_count": 48
        }
      ]
    },
    {
      "cell_type": "code",
      "source": [
        "data.loc[:,[\"latitude\",\"longitude\"]]"
      ],
      "metadata": {
        "id": "o2Fk3IbtMM2d"
      },
      "execution_count": null,
      "outputs": []
    },
    {
      "cell_type": "markdown",
      "source": [
        "## Conditional selection\n",
        "\n",
        "So far we've been indexing various strides of data, using structural properties of the DataFrame itself. To do *interesting* things with the data, however, we often need to ask questions based on conditions. \n",
        "\n",
        "For example, suppose that we're interested specifically in better-than-average wines produced in Italy.\n",
        "\n",
        "We can start by checking if each wine is Italian or not:"
      ],
      "metadata": {
        "id": "AkZAxRYcOndG"
      }
    },
    {
      "cell_type": "code",
      "source": [
        "data.loc[1:5,['longitude','latitude']]"
      ],
      "metadata": {
        "id": "VvOAxg5dVQyZ"
      },
      "execution_count": null,
      "outputs": []
    },
    {
      "cell_type": "code",
      "source": [
        "data.latitude==34.40"
      ],
      "metadata": {
        "id": "6CwmB2FKMM0Z"
      },
      "execution_count": null,
      "outputs": []
    },
    {
      "cell_type": "markdown",
      "source": [
        "This operation produced a Series of `True`/`False` booleans based on the `latitude` of each record.  This result can then be used inside of `loc` to select the relevant data:"
      ],
      "metadata": {
        "id": "MvhkGgpzcAwq"
      }
    },
    {
      "cell_type": "code",
      "source": [
        "data.loc[data.latitude == 34.40]"
      ],
      "metadata": {
        "id": "XQTvXxgmMMwV"
      },
      "execution_count": null,
      "outputs": []
    },
    {
      "cell_type": "markdown",
      "source": [
        "We can use the ampersand (`&`) to bring the two questions together:"
      ],
      "metadata": {
        "id": "rftO5KCOdN5J"
      }
    },
    {
      "cell_type": "code",
      "source": [
        "data.loc[(data.latitude == 34.40) & (data.total_rooms >= 7650.0)]"
      ],
      "metadata": {
        "id": "VihoNFP1MMq3"
      },
      "execution_count": null,
      "outputs": []
    },
    {
      "cell_type": "code",
      "source": [
        "data.loc[(data.latitude == 34.40) | (data.total_rooms >= 7650.0)]"
      ],
      "metadata": {
        "id": "8ll35fysduSM"
      },
      "execution_count": null,
      "outputs": []
    },
    {
      "cell_type": "markdown",
      "source": [
        "# Summary Functions and Maps "
      ],
      "metadata": {
        "id": "irMw-A6SIe6Z"
      }
    },
    {
      "cell_type": "code",
      "source": [
        "import pandas as pd\n",
        "\n",
        "data = pd.read_csv(\"/content/sample_data/california_housing_train.csv\")\n",
        "data"
      ],
      "metadata": {
        "id": "crnxWdaNJIiP"
      },
      "execution_count": null,
      "outputs": []
    },
    {
      "cell_type": "markdown",
      "source": [
        "## Summary functions\n",
        "\n",
        "Pandas provides many simple \"summary functions\" (not an official name) which restructure the data in some useful way. For example, consider the `describe()` method:"
      ],
      "metadata": {
        "id": "ttgyIj1iI2QE"
      }
    },
    {
      "cell_type": "code",
      "source": [
        "data.describe()"
      ],
      "metadata": {
        "id": "dGBBqltHduLi"
      },
      "execution_count": null,
      "outputs": []
    },
    {
      "cell_type": "markdown",
      "source": [
        "This method generates a high-level summary of the attributes of the given column. It is type-aware, meaning that its output changes based on the data type of the input. The output above only makes sense for numerical data; for string data here's what we get:"
      ],
      "metadata": {
        "id": "U-90EOwdJf5r"
      }
    },
    {
      "cell_type": "code",
      "source": [
        "data.latitude.describe()# describe a panda series"
      ],
      "metadata": {
        "id": "unBbMDfyduE6",
        "colab": {
          "base_uri": "https://localhost:8080/"
        },
        "outputId": "15b96a98-0e54-485e-bed6-66c411edccd6"
      },
      "execution_count": 57,
      "outputs": [
        {
          "output_type": "execute_result",
          "data": {
            "text/plain": [
              "count    17000.000000\n",
              "mean        35.625225\n",
              "std          2.137340\n",
              "min         32.540000\n",
              "25%         33.930000\n",
              "50%         34.250000\n",
              "75%         37.720000\n",
              "max         41.950000\n",
              "Name: latitude, dtype: float64"
            ]
          },
          "metadata": {},
          "execution_count": 57
        }
      ]
    },
    {
      "cell_type": "markdown",
      "source": [
        "If you want to get some particular simple summary statistic about a column in a DataFrame or a Series, there is usually a helpful pandas function that makes it happen. \n",
        "\n",
        "For example, to see the mean of the points allotted (e.g. how well an averagely rated wine does), we can use the `mean()` function:"
      ],
      "metadata": {
        "id": "1hZqGyUPKDiV"
      }
    },
    {
      "cell_type": "code",
      "source": [
        "data.latitude.mean()"
      ],
      "metadata": {
        "id": "VdVruFDAdt6g",
        "colab": {
          "base_uri": "https://localhost:8080/"
        },
        "outputId": "bf67dc74-be7a-426b-87c6-6c40d2943cb1"
      },
      "execution_count": 58,
      "outputs": [
        {
          "output_type": "execute_result",
          "data": {
            "text/plain": [
              "35.6252247058827"
            ]
          },
          "metadata": {},
          "execution_count": 58
        }
      ]
    },
    {
      "cell_type": "code",
      "source": [
        "data.longitude.std()"
      ],
      "metadata": {
        "colab": {
          "base_uri": "https://localhost:8080/"
        },
        "id": "ihtIKDb0GPww",
        "outputId": "a8b93811-f955-44ec-ff09-011edcb613d2"
      },
      "execution_count": 59,
      "outputs": [
        {
          "output_type": "execute_result",
          "data": {
            "text/plain": [
              "2.005166408426173"
            ]
          },
          "metadata": {},
          "execution_count": 59
        }
      ]
    },
    {
      "cell_type": "markdown",
      "source": [
        "To see a list of unique values we can use the `unique()` function:"
      ],
      "metadata": {
        "id": "1Qt3LgYOKL97"
      }
    },
    {
      "cell_type": "code",
      "source": [
        "data.latitude.unique()"
      ],
      "metadata": {
        "id": "Xsp_V4MEdtoQ"
      },
      "execution_count": null,
      "outputs": []
    },
    {
      "cell_type": "markdown",
      "source": [
        "To see a list of unique values _and_ how often they occur in the dataset, we can use the `value_counts()` method:"
      ],
      "metadata": {
        "id": "13X93DnWKY3q"
      }
    },
    {
      "cell_type": "code",
      "source": [
        "data.latitude.value_counts()#frequency of unique values"
      ],
      "metadata": {
        "id": "8GCHEclldtWx"
      },
      "execution_count": null,
      "outputs": []
    },
    {
      "cell_type": "markdown",
      "source": [
        "## Maps\n",
        "\n",
        "A **map** is a term, borrowed from mathematics, for a function that takes one set of values and \"maps\" them to another set of values. In data science we often have a need for creating new representations from existing data, or for transforming data from the format it is in now to the format that we want it to be in later. Maps are what handle this work, making them extremely important for getting your work done!\n",
        "\n",
        "There are two mapping methods that you will use often. \n",
        "\n",
        "[`map()`](https://pandas.pydata.org/pandas-docs/stable/generated/pandas.Series.map.html) is the first, and slightly simpler one. For example, suppose that we wanted to remean the scores the wines received to 0. We can do this as follows:"
      ],
      "metadata": {
        "id": "ZcS7A66cLZ5r"
      }
    },
    {
      "cell_type": "code",
      "source": [
        "data.latitude"
      ],
      "metadata": {
        "id": "Wnpdm6cOLvUU"
      },
      "execution_count": null,
      "outputs": []
    },
    {
      "cell_type": "code",
      "source": [
        "latitude_mean = data.latitude.mean()\n",
        "data.latitude.map(lambda p: p - latitude_mean)# applies for panda series\n",
        "\n",
        "\n",
        "\n",
        "# def scale (dat):\n",
        "#   dat=dat.latitude-data.latitude.mean()\n",
        "#   return dat\n",
        "# data.apply(scale,axis='columns')\n",
        "\n",
        "  "
      ],
      "metadata": {
        "id": "It0VvwlXMMl7"
      },
      "execution_count": null,
      "outputs": []
    },
    {
      "cell_type": "code",
      "source": [
        "def remean_latitude(row):\n",
        "    row = row.latitude - latitude_mean\n",
        "    return row\n",
        "\n",
        "data.apply(remean_latitude, axis='columns')# for whole data"
      ],
      "metadata": {
        "id": "LBVQnRcNKTuZ"
      },
      "execution_count": null,
      "outputs": []
    },
    {
      "cell_type": "code",
      "source": [
        "def remean_latitude(row):\n",
        "    row = row - latitude_mean\n",
        "    return row\n",
        "\n",
        "data.apply(remean_latitude, axis='columns')"
      ],
      "metadata": {
        "id": "T4hLWYU6QrC_"
      },
      "execution_count": null,
      "outputs": []
    },
    {
      "cell_type": "markdown",
      "source": [
        "# Grouping and Sorting"
      ],
      "metadata": {
        "id": "Q7HR7fExppV7"
      }
    },
    {
      "cell_type": "markdown",
      "source": [
        "\n",
        "Maps allow us to transform data in a DataFrame or Series one value at a time for an entire column. However, often we want to group our data, and then do something specific to the group the data is in. \n",
        "\n",
        "As you'll learn, we do this with the `groupby()` operation.  We'll also cover some additional topics, such as more complex ways to index your DataFrames, along with how to sort your data.\n",
        "\n",
        "One function we've been using heavily thus far is the `value_counts()` function. We can replicate what `value_counts()` does by doing the following:"
      ],
      "metadata": {
        "id": "c721FV7nqJEg"
      }
    },
    {
      "cell_type": "code",
      "source": [
        "data.groupby('latitude').latitude.count()\n",
        "#data.groupby('latitude')\n",
        "#data.latitude.value_counts()"
      ],
      "metadata": {
        "id": "x5GCZLqNpqFE"
      },
      "execution_count": null,
      "outputs": []
    },
    {
      "cell_type": "markdown",
      "source": [
        "`groupby()` created a group of data which allotted the same point values to the given wines. Then, for each of these groups, we grabbed the `latitude` column and counted how many times it appeared.  `value_counts()` is just a shortcut to this `groupby()` operation. \n",
        "\n",
        "We can use any of the summary functions we've used before with this data. For example, to get the cheapest wine in each point value category, we can do the following:"
      ],
      "metadata": {
        "id": "a3nknsQrXHxv"
      }
    },
    {
      "cell_type": "code",
      "source": [
        "data.groupby(['latitude']).latitude.min()\n",
        "#data.groupby('latitude').count()\n",
        "#data.latitude.value_counts()\n",
        "#data.groupby('latitude').latitude.count()"
      ],
      "metadata": {
        "id": "FPRF_ZufVWGR"
      },
      "execution_count": null,
      "outputs": []
    },
    {
      "cell_type": "markdown",
      "source": [
        "You can think of each group we generate as being a slice of our DataFrame containing only data with values that match. This DataFrame is accessible to us directly using the `apply()` method, and we can then manipulate the data in any way we see fit. For example, here's one way of selecting the name of the first wine reviewed from each winery in the dataset:"
      ],
      "metadata": {
        "id": "z54epm0cac7t"
      }
    },
    {
      "cell_type": "code",
      "source": [
        "data.groupby('latitude').apply(lambda df: df.latitude.iloc[0])"
      ],
      "metadata": {
        "id": "kH-_e6VZX_V_"
      },
      "execution_count": null,
      "outputs": []
    },
    {
      "cell_type": "markdown",
      "source": [
        "Another `groupby()` method worth mentioning is `agg()`, which lets you run a bunch of different functions on your DataFrame simultaneously. For example, we can generate a simple statistical summary of the dataset as follows:"
      ],
      "metadata": {
        "id": "gCdixoMUbOWe"
      }
    },
    {
      "cell_type": "code",
      "source": [
        "data.groupby(['latitude']).latitude.agg([len, min, max])"
      ],
      "metadata": {
        "id": "ChNXdNPra74F"
      },
      "execution_count": null,
      "outputs": []
    },
    {
      "cell_type": "markdown",
      "source": [
        "## Sorting\n",
        "\n",
        " \n",
        "To get data in the order want it in we can sort it ourselves.  The `sort_values()` method is handy for this."
      ],
      "metadata": {
        "id": "_PnjSBgEbf6j"
      }
    },
    {
      "cell_type": "code",
      "source": [
        "latitude_data = data.reset_index()\n",
        "latitude_data"
      ],
      "metadata": {
        "id": "c9woyKi1bTZC"
      },
      "execution_count": null,
      "outputs": []
    },
    {
      "cell_type": "code",
      "source": [
        "latitude_data.sort_values(by=\"latitude\")"
      ],
      "metadata": {
        "id": "2GDu_b3sbwjK"
      },
      "execution_count": null,
      "outputs": []
    },
    {
      "cell_type": "markdown",
      "source": [
        "`sort_values()` defaults to an ascending sort, where the lowest values go first. However, most of the time we want a descending sort, where the higher numbers go first. That goes thusly:"
      ],
      "metadata": {
        "id": "EoAK9TMydMaX"
      }
    },
    {
      "cell_type": "code",
      "source": [
        "latitude_data.sort_values(by='latitude', ascending=False)"
      ],
      "metadata": {
        "id": "0JahE5nrc63o"
      },
      "execution_count": null,
      "outputs": []
    },
    {
      "cell_type": "markdown",
      "source": [
        "To sort by index values, use the companion method `sort_index()`. This method has the same arguments and default order:"
      ],
      "metadata": {
        "id": "tkJYZfLzdkcl"
      }
    },
    {
      "cell_type": "code",
      "source": [
        "data.sort_index()"
      ],
      "metadata": {
        "id": "yYdTgkNydX2V"
      },
      "execution_count": null,
      "outputs": []
    },
    {
      "cell_type": "markdown",
      "source": [
        "Finally, know that you can sort by more than one column at a time:"
      ],
      "metadata": {
        "id": "6JQD5D6ndu4e"
      }
    },
    {
      "cell_type": "code",
      "source": [
        ""
      ],
      "metadata": {
        "id": "3CJ-1oWpdnuX"
      },
      "execution_count": 73,
      "outputs": []
    },
    {
      "cell_type": "code",
      "source": [
        ""
      ],
      "metadata": {
        "id": "_0vS6je-d3qK"
      },
      "execution_count": 73,
      "outputs": []
    },
    {
      "cell_type": "markdown",
      "source": [
        "# Missing Values\n",
        "\n"
      ],
      "metadata": {
        "id": "iORyhOiakFld"
      }
    },
    {
      "cell_type": "markdown",
      "source": [
        "### Detecting null values\n",
        "Pandas data structures have two useful methods for detecting null data: ``isnull()`` and ``notnull()``.\n",
        "Either one will return a Boolean mask over the data. For example:"
      ],
      "metadata": {
        "id": "95MqPWUBlr4e"
      }
    },
    {
      "cell_type": "code",
      "source": [
        "data = pd.Series([1, np.nan, 'hello', None])\n",
        "data"
      ],
      "metadata": {
        "id": "fWlaMzYClrat",
        "colab": {
          "base_uri": "https://localhost:8080/"
        },
        "outputId": "8e9ede30-f878-4825-c76b-737231416d64"
      },
      "execution_count": 74,
      "outputs": [
        {
          "output_type": "execute_result",
          "data": {
            "text/plain": [
              "0        1\n",
              "1      NaN\n",
              "2    hello\n",
              "3     None\n",
              "dtype: object"
            ]
          },
          "metadata": {},
          "execution_count": 74
        }
      ]
    },
    {
      "cell_type": "code",
      "source": [
        "data.isnull()"
      ],
      "metadata": {
        "id": "qv-fmaO0lrYh"
      },
      "execution_count": null,
      "outputs": []
    },
    {
      "cell_type": "code",
      "source": [
        "data.isna().sum()"
      ],
      "metadata": {
        "colab": {
          "base_uri": "https://localhost:8080/"
        },
        "id": "ndEypQOoylpB",
        "outputId": "9c23dee8-0b16-4854-a06b-bd6c60400e54"
      },
      "execution_count": 76,
      "outputs": [
        {
          "output_type": "execute_result",
          "data": {
            "text/plain": [
              "2"
            ]
          },
          "metadata": {},
          "execution_count": 76
        }
      ]
    },
    {
      "cell_type": "code",
      "source": [
        "data[data.notnull()]"
      ],
      "metadata": {
        "id": "Sv3rF5gqlrVO"
      },
      "execution_count": null,
      "outputs": []
    },
    {
      "cell_type": "markdown",
      "source": [
        "The ``isnull()`` and ``notnull()`` methods produce similar Boolean results for ``DataFrame``s."
      ],
      "metadata": {
        "id": "eV-L4PhxmLZ5"
      }
    },
    {
      "cell_type": "markdown",
      "source": [
        "### Dropping null values\n",
        "\n",
        "In addition to the masking used before, there are the convenience methods, ``dropna()``\n",
        "(which removes NA values) and ``fillna()`` (which fills in NA values). For a ``Series``,\n",
        "the result is straightforward:"
      ],
      "metadata": {
        "id": "uvqoXemlmN5c"
      }
    },
    {
      "cell_type": "code",
      "source": [
        "data.dropna()"
      ],
      "metadata": {
        "id": "4hBrWQ39lrRB"
      },
      "execution_count": null,
      "outputs": []
    },
    {
      "cell_type": "markdown",
      "source": [
        "For a ``DataFrame``, there are more options.\n",
        "Consider the following ``DataFrame``:"
      ],
      "metadata": {
        "id": "BSNlcEQKmUee"
      }
    },
    {
      "cell_type": "code",
      "source": [
        "df = pd.DataFrame([[1,      np.nan, 2],\n",
        "                   [2,      3,      5],\n",
        "                   [np.nan, 4,      6]])\n",
        "df"
      ],
      "metadata": {
        "id": "0KlcG_OSlrOl"
      },
      "execution_count": null,
      "outputs": []
    },
    {
      "cell_type": "markdown",
      "source": [
        "We cannot drop single values from a ``DataFrame``; we can only drop full rows or full columns.\n",
        "Depending on the application, you might want one or the other, so ``dropna()`` gives a number of options for a ``DataFrame``.\n",
        "\n",
        "By default, ``dropna()`` will drop all rows in which *any* null value is present:"
      ],
      "metadata": {
        "id": "kd21_0zimcSg"
      }
    },
    {
      "cell_type": "code",
      "source": [
        "df.dropna()"
      ],
      "metadata": {
        "id": "h1UZFkwflrLP"
      },
      "execution_count": null,
      "outputs": []
    },
    {
      "cell_type": "markdown",
      "source": [
        "Alternatively, you can drop NA values along a different axis; ``axis=1`` drops all columns containing a null value:"
      ],
      "metadata": {
        "id": "DNTzLimhmjXR"
      }
    },
    {
      "cell_type": "code",
      "source": [
        "df.dropna(axis='columns')"
      ],
      "metadata": {
        "id": "YxI0oI3ClrHr"
      },
      "execution_count": null,
      "outputs": []
    },
    {
      "cell_type": "markdown",
      "source": [
        "But this drops some good data as well; you might rather be interested in dropping rows or columns with *all* NA values, or a majority of NA values.\n",
        "This can be specified through the ``how`` or ``thresh`` parameters, which allow fine control of the number of nulls to allow through.\n",
        "\n",
        "The default is ``how='any'``, such that any row or column (depending on the ``axis`` keyword) containing a null value will be dropped.\n",
        "You can also specify ``how='all'``, which will only drop rows/columns that are *all* null values:"
      ],
      "metadata": {
        "id": "5T4IaKizmrh7"
      }
    },
    {
      "cell_type": "code",
      "source": [
        "df[3] = np.nan\n",
        "df"
      ],
      "metadata": {
        "id": "Ag_Snw-Emngp"
      },
      "execution_count": null,
      "outputs": []
    },
    {
      "cell_type": "code",
      "source": [
        "df.dropna(axis='columns', how='all')"
      ],
      "metadata": {
        "id": "WGLhgruWmnZe"
      },
      "execution_count": null,
      "outputs": []
    },
    {
      "cell_type": "markdown",
      "source": [
        "For finer-grained control, the ``thresh`` parameter lets you specify a minimum number of non-null values for the row/column to be kept:"
      ],
      "metadata": {
        "id": "fKJMCwb4m3l9"
      }
    },
    {
      "cell_type": "code",
      "source": [
        "df.dropna(axis='rows', thresh=3)"
      ],
      "metadata": {
        "id": "PimS6p6mmnVb"
      },
      "execution_count": null,
      "outputs": []
    },
    {
      "cell_type": "markdown",
      "source": [
        "Here the first and last row have been dropped, because they contain only two non-null values."
      ],
      "metadata": {
        "id": "qNmiYqJxn_Fu"
      }
    },
    {
      "cell_type": "markdown",
      "source": [
        "### Filling null values\n",
        "\n",
        "Sometimes rather than dropping NA values, you'd rather replace them with a valid value.\n",
        "This value might be a single number like zero, or it might be some sort of imputation or interpolation from the good values.\n",
        "You could do this in-place using the ``isnull()`` method as a mask, but because it is such a common operation Pandas provides the ``fillna()`` method, which returns a copy of the array with the null values replaced.\n",
        "\n",
        "Consider the following ``Series``:"
      ],
      "metadata": {
        "id": "zux7KuUDoBxj"
      }
    },
    {
      "cell_type": "code",
      "source": [
        "data = pd.Series([1, np.nan, 2, None, 3], index=list('abcde'))\n",
        "data"
      ],
      "metadata": {
        "id": "VaD4rvxDmnSR"
      },
      "execution_count": null,
      "outputs": []
    },
    {
      "cell_type": "markdown",
      "source": [
        "We can fill NA entries with a single value, such as zero:"
      ],
      "metadata": {
        "id": "GYe-sYIaoMu5"
      }
    },
    {
      "cell_type": "code",
      "source": [
        "data.fillna(0)"
      ],
      "metadata": {
        "id": "VLbURD4qmnOy"
      },
      "execution_count": null,
      "outputs": []
    },
    {
      "cell_type": "markdown",
      "source": [
        "We can specify a forward-fill to propagate the previous value forward:"
      ],
      "metadata": {
        "id": "IcERjiJXoQrS"
      }
    },
    {
      "cell_type": "code",
      "source": [
        "# forward-fill\n",
        "data.fillna(method='ffill')"
      ],
      "metadata": {
        "id": "IxoMhbBPlq-H"
      },
      "execution_count": null,
      "outputs": []
    },
    {
      "cell_type": "markdown",
      "source": [
        "Or we can specify a back-fill to propagate the next values backward:"
      ],
      "metadata": {
        "id": "ub9a-XJuoW85"
      }
    },
    {
      "cell_type": "code",
      "source": [
        "# back-fill\n",
        "data.fillna(method='bfill')"
      ],
      "metadata": {
        "id": "QF4CIpo7lBiO"
      },
      "execution_count": null,
      "outputs": []
    },
    {
      "cell_type": "markdown",
      "source": [
        "For ``DataFrame``s, the options are similar, but we can also specify an ``axis`` along which the fills take place:"
      ],
      "metadata": {
        "id": "qWmGPKUcocR-"
      }
    },
    {
      "cell_type": "code",
      "source": [
        "df"
      ],
      "metadata": {
        "id": "-uiHEopsoY16"
      },
      "execution_count": null,
      "outputs": []
    },
    {
      "cell_type": "code",
      "source": [
        "df.fillna(method='ffill', axis=1)"
      ],
      "metadata": {
        "id": "PqLeJT_noexp"
      },
      "execution_count": null,
      "outputs": []
    },
    {
      "cell_type": "code",
      "source": [
        ""
      ],
      "metadata": {
        "id": "ZC-U7Z6nofMT"
      },
      "execution_count": 90,
      "outputs": []
    }
  ]
}