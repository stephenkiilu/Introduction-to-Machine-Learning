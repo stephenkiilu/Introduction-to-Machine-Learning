{
  "nbformat": 4,
  "nbformat_minor": 0,
  "metadata": {
    "colab": {
      "name": "Stephen Kiilu Neural_Networks",
      "provenance": [],
      "collapsed_sections": []
    },
    "kernelspec": {
      "name": "python3",
      "display_name": "Python 3"
    },
    "language_info": {
      "name": "python"
    }
  },
  "cells": [
    {
      "cell_type": "markdown",
      "source": [
        "---\n",
        "___\n",
        "<p align= 'center'> <strong> SESSION ON NEURAL NETWORK IMPLEMENTATION</strong></p>\n",
        "\n",
        "---\n",
        "___"
      ],
      "metadata": {
        "id": "dcnG2xENekPH"
      }
    },
    {
      "cell_type": "markdown",
      "source": [
        "# Instructions:\n",
        "1. Save a copy of this notebook in your drive;\n",
        "2. Name it by: `Your_fullname_LogRegression.ipynb`\n",
        "3. Close the original notebook\n",
        "4. Start typing your codes.\n",
        "\n",
        "`Note:` Work in group.\n",
        "# Part 1: Data preparation\n",
        "\n",
        "## Import Dataset Libraries"
      ],
      "metadata": {
        "id": "ms5tUXI_veD7"
      }
    },
    {
      "cell_type": "code",
      "execution_count": null,
      "metadata": {
        "id": "hnso4Pmfvc-n"
      },
      "outputs": [],
      "source": [
        "import numpy as np\n",
        "import pandas as pd\n",
        "import matplotlib.pyplot as plt"
      ]
    },
    {
      "cell_type": "markdown",
      "source": [
        "`Question 0: Import the dataset Dataset`"
      ],
      "metadata": {
        "id": "61r61O-4wGGc"
      }
    },
    {
      "cell_type": "code",
      "source": [
        "##### WRITE YOUR CODE HERE #####\n",
        "path= '/content/diabetes.csv'\n",
        "data= pd.read_csv(path)\n",
        "#### END CODE ####"
      ],
      "metadata": {
        "id": "D1EIZ7a0v0G-"
      },
      "execution_count": null,
      "outputs": []
    },
    {
      "cell_type": "markdown",
      "source": [
        "`Question 1: write a function that scale your features`.\n",
        "\n",
        "`Hint:` $x'= \\dfrac{x-\\mu}{\\sigma}$ \n",
        "where $\\mu$ is the mean and $\\sigma$ the standard deviation of $x$."
      ],
      "metadata": {
        "id": "5HlOPHiJwcIl"
      }
    },
    {
      "cell_type": "code",
      "source": [
        "##### WRITE YOUR CODE HERE #####\n",
        "def scale(x):\n",
        "  \"\"\"\n",
        "  Parameters\n",
        "  -------\n",
        "    x: dataframe\n",
        "\n",
        "  Returns\n",
        "  -------\n",
        "    x_scaled: dataframe\n",
        "  \n",
        "  \"\"\"\n",
        "  x_scaled= (x-x.mean(0))/x.std(0)\n",
        "  return x_scaled\n",
        "#### END CODE ####"
      ],
      "metadata": {
        "id": "UaGINLK5wo3Q"
      },
      "execution_count": null,
      "outputs": []
    },
    {
      "cell_type": "markdown",
      "source": [
        "`Question 2: Scale your features, except the target.`"
      ],
      "metadata": {
        "id": "UF_3OWKGwKIk"
      }
    },
    {
      "cell_type": "code",
      "source": [
        "##### WRITE YOUR CODE HERE #####\n",
        "data.iloc[:,:-1]= scale(data)\n",
        "# print(data)\n",
        "#### END CODE #### "
      ],
      "metadata": {
        "id": "oPJFxXyRv75u"
      },
      "execution_count": null,
      "outputs": []
    },
    {
      "cell_type": "markdown",
      "source": [
        "`Question 3: Write a function that split your (x,y) to (x_train, y_train) and (x_test, y_test).`\n",
        "\n",
        "`Note:` This function must return an arrays."
      ],
      "metadata": {
        "id": "MogPC03lw4P5"
      }
    },
    {
      "cell_type": "code",
      "source": [
        "##### WRITE YOUR CODE HERE #####\n",
        "def split_data(df, train_percent= 0.8):\n",
        "  \"\"\"\n",
        "  Parameters\n",
        "  -------\n",
        "    df: a dataframe\n",
        "    train_percent: a float\n",
        "    \n",
        "\n",
        "  Returns\n",
        "  -------\n",
        "    \n",
        "    x_train: an array\n",
        "    x_test: an array \n",
        "    y_train: an array\n",
        "    y_test: an array\n",
        "  \n",
        "  \"\"\"\n",
        "  np.random.seed(2)\n",
        "  perm = np.random.permutation(df.index)\n",
        "\n",
        "  n= len(df)\n",
        "  train_index = int(train_percent * n)\n",
        "\n",
        "  train = df.iloc[perm[:train_index]]\n",
        "  test = df.iloc[perm[train_index:]]\n",
        "\n",
        "  x_train, x_test, y_train, y_test= train.iloc[:, :-1], test.iloc[:, :-1], train.iloc[:, -1], test.iloc[:, -1]\n",
        "\n",
        "  assert (x_train.shape==(int(0.8*len(data)), 8))\n",
        "  assert (x_test.shape==(154, 8))\n",
        "  assert (y_train.shape==(int(0.8*len(data)), ))\n",
        "  assert (y_test.shape==(154, ))\n",
        "  print('✅✅✅ Congratulation: Your data is is correctly splitted.')\n",
        "  return x_train.values, x_test.values, y_train.values, y_test.values\n",
        "#### END CODE ####"
      ],
      "metadata": {
        "id": "BSz_ufT5wyKi"
      },
      "execution_count": null,
      "outputs": []
    },
    {
      "cell_type": "code",
      "source": [
        "x_train, x_test, y_train, y_test= split_data(data) \n",
        "x_train.shape, y_train.shape, x_test.shape, y_test.shape"
      ],
      "metadata": {
        "colab": {
          "base_uri": "https://localhost:8080/"
        },
        "id": "aFZtlN0LxAZQ",
        "outputId": "cb1199ea-f645-4121-cc24-c326d66cb8ac"
      },
      "execution_count": null,
      "outputs": [
        {
          "output_type": "stream",
          "name": "stdout",
          "text": [
            "✅✅✅ Congratulation: Your data is is correctly splitted.\n"
          ]
        },
        {
          "output_type": "execute_result",
          "data": {
            "text/plain": [
              "((614, 8), (614,), (154, 8), (154,))"
            ]
          },
          "metadata": {},
          "execution_count": 6
        }
      ]
    },
    {
      "cell_type": "markdown",
      "source": [
        "---\n",
        "___\n",
        "<p align= 'center'> <strong> End of Data preparation </strong></p>\n",
        "\n",
        "---\n",
        "___"
      ],
      "metadata": {
        "id": "clPRnm0ub2Gc"
      }
    },
    {
      "cell_type": "markdown",
      "source": [
        "# Activation functions and their derivatives: Review\n",
        "### <strong> 1. Sigmoid </strong>\n",
        "\n",
        "1.1. Function:\n",
        "\n",
        "  <blockquote>Function flattens rather quickly (values go to 0 or 1). This is causing partial derivatives going to zero quickly as well, as a result the weigths cannot be updated and the model cannot learn. This can be mitigated by proper weigth inicialization.\n",
        "  $$\\sigma(x)=\\dfrac{1}{1+\\exp(-x)}$$ </blockquote>\n",
        "\n",
        "\n",
        "1.2. Derivative:\n",
        "$$d\\sigma(x)= \\sigma(x)\\left(1-\\sigma(x)\\right)$$\n",
        "\n",
        "  <blockquote> Since the derivative of sigmoid is bounded, this will lead to vanishing gradient problem.</blockquote>\n",
        "\n",
        "### <strong> 2. Tanh (hyperbolic tangent) </strong>\n",
        "2.1. Function:\n",
        "\n",
        "  <blockquote>The tanh function is just another possible functions that can be used as a nonlinear activation function between layers of a neural network. It actually shares a few things in common with the sigmoid activation function. They both look very similar. But while a sigmoid function will map input values to be between 0 and 1, Tanh will map values to be between -1 and 1. </blockquote>\n",
        "\n",
        "$$tanh(x)= \\dfrac{exp(−x)−exp(x)}{exp(x)+exp(−x)}=2σ(2x)−1$$\n",
        "2.2. Derivative:\n",
        "$$dtanh(x)= 1- tanh(x)^2$$\n",
        "\n",
        "  <blockquote>Usually used in hidden layers of a neural network as it’s values lies between-1 to 1.</blockquote>\n",
        "\n",
        "  <blockquote>Good activation function. But still it suffers from Vanishing gradient problem. </blockquote>\n",
        "\n",
        "### <strong> 3. Relu (Rectified Linear Unit) </strong>\n",
        "3.1. Function:\n",
        "\n",
        "  <blockquote>ReLU functions help to achieve fast convergence, so the model trains quickly. It is also faster to compute derivatives on essentially linear function.</blockquote>\n",
        "\n",
        "  <blockquote>The issue is with the constant part of the function (where  f(x)=0 ), this is where gradients are zero as well. Gradient descent process cannot continue and training of the model goes to a halt.</blockquote>\n",
        "\n",
        "\n",
        "$$f(x)= max(0,x)$$ or \n",
        "\\begin{align}\n",
        "\\text{relu}(x)= \\begin{cases}\n",
        "  x \\text{ if } x >0 \\\\\n",
        "  0 \\text{ Otherwise }\n",
        "\\end{cases}\n",
        "\\end{align}\n",
        "\n",
        "\n",
        "3.2. Derivative:\n",
        "\\begin{align}\n",
        "\\text{drelu}(x)= \\begin{cases}\n",
        "  1 \\text{ if } x >0 \\\\\n",
        "  0 \\text{ Otherwise }\n",
        "\\end{cases}\n",
        "\\end{align}\n",
        "  <blockquote>ReLu is less computationally expensive than tanh and sigmoid because it involves simpler mathematical operations. At a time only a few neurons are activated making the network sparse making it efficient and easy for computation.</blockquote>\n",
        "\n",
        "  <blockquote>To fix this problem another modification was introduced called Leaky ReLu to fix the problem of dying neurons. It introduces a small slope to keep the updates alive.</blockquote>\n",
        "\n",
        "###<stron> 4. Leaky Relu </strong>\n",
        "\n",
        "4.1. Function\n",
        "\\begin{align}\n",
        "\\text{leaky_relu}(x)= \\begin{cases}\n",
        "  x \\text{ if } x >0 \\\\\n",
        "  0.01x \\text{ Otherwise }\n",
        "\\end{cases}\n",
        "\\end{align}\n",
        "\n",
        "4.2. Derivative\n",
        "\\begin{align}\n",
        "\\text{dleaky_relu}(x)= \\begin{cases}\n",
        "  1 \\text{ if } x >0 \\\\\n",
        "  0.01 \\text{ Otherwise }\n",
        "\\end{cases}\n",
        "\\end{align}\n"
      ],
      "metadata": {
        "id": "oDyWNo4MxO97"
      }
    },
    {
      "cell_type": "markdown",
      "source": [
        "# Cross entropy and its derivative: review\n",
        "$$l(A2,y)= -\\dfrac{1}{N}\\sum_{i= 1}^{N}\\left(y \\log A2+ (1-y) \\log (1-A2)\\right)$$\n"
      ],
      "metadata": {
        "id": "mK6iT-620QzR"
      }
    },
    {
      "cell_type": "markdown",
      "source": [
        "---\n",
        "___\n",
        "<p align= 'center'> <strong> End of reviewing formulas </strong></p>\n",
        "\n",
        "---\n",
        "___"
      ],
      "metadata": {
        "id": "s3j3q1c5bvV3"
      }
    },
    {
      "cell_type": "markdown",
      "source": [
        "# Part 2: Neural Network Implementation"
      ],
      "metadata": {
        "id": "i2BG9Wl8zXDY"
      }
    },
    {
      "cell_type": "markdown",
      "source": [
        "## Activation functions implementation"
      ],
      "metadata": {
        "id": "Odpge9ujfcgJ"
      }
    },
    {
      "cell_type": "code",
      "source": [
        "def sigmoid(x):\n",
        "  \"\"\"\n",
        "  Parameters\n",
        "  ----------\n",
        "    x: an array\n",
        "\n",
        "  return\n",
        "  ------\n",
        "\n",
        "    y: 1/(1+exp(-x))\n",
        "\n",
        "      a list of value between 0 and 1\n",
        "  \"\"\"\n",
        "  z=1/(1+np.exp(-x))\n",
        "  return z"
      ],
      "metadata": {
        "id": "M49peoMZ1FUd"
      },
      "execution_count": null,
      "outputs": []
    },
    {
      "cell_type": "code",
      "source": [
        "def dsigmoid(x):\n",
        "  \"\"\"\n",
        "  Parameters\n",
        "  ----------\n",
        "    x: an array\n",
        "\n",
        "  return\n",
        "  ------\n",
        "\n",
        "    y: sigmoid(x)*(1- sigmoid(x))\n",
        "\n",
        "      a list of value of the derivative of sigmoid\n",
        "  \"\"\"\n",
        "  sigmoid=1/(1+np.exp(-x))\n",
        "  sigmoid1=1-sigmoid\n",
        "  z1=sigmoid*sigmoid1\n",
        "  return z1"
      ],
      "metadata": {
        "id": "K8Pv2tCJ1359"
      },
      "execution_count": null,
      "outputs": []
    },
    {
      "cell_type": "code",
      "source": [
        "x = np.linspace(-10, 10, 100)"
      ],
      "metadata": {
        "id": "9fwrsUkz2I2M"
      },
      "execution_count": null,
      "outputs": []
    },
    {
      "cell_type": "code",
      "source": [
        "fig, ax = plt.subplots(figsize=(9, 5))\n",
        "ax.spines['left'].set_position('center')\n",
        "ax.spines['right'].set_color('none')\n",
        "ax.spines['top'].set_color('none')\n",
        "ax.xaxis.set_ticks_position('bottom')\n",
        "ax.yaxis.set_ticks_position('left')\n",
        "\n",
        "plt.axhline(y=1, color=\"r\", linestyle=\"--\")\n",
        "plt.axhline(y=0, color=\"r\", linestyle=\"--\")\n",
        "# Create and show plot\n",
        "ax.plot(x,sigmoid(x), linewidth=3, label=\"sigmoid\")\n",
        "ax.plot(x,dsigmoid(x), linewidth=3, label=\"derivative\")\n",
        "ax.legend(loc=\"lower left\", frameon=False)\n",
        "fig.show()"
      ],
      "metadata": {
        "colab": {
          "base_uri": "https://localhost:8080/",
          "height": 320
        },
        "id": "j3KAO2Yx1Ktk",
        "outputId": "4b0da1ef-2b25-4727-c5b2-127af17ad5df"
      },
      "execution_count": null,
      "outputs": [
        {
          "output_type": "display_data",
          "data": {
            "text/plain": [
              "<Figure size 648x360 with 1 Axes>"
            ],
            "image/png": "[encoded data removed]"
          },
          "metadata": {
            "needs_background": "light"
          }
        }
      ]
    },
    {
      "cell_type": "code",
      "source": [
        "def tanh(x):\n",
        "  \"\"\"\n",
        "  Parameters\n",
        "  ----------\n",
        "    x: an array\n",
        "\n",
        "  return\n",
        "  ------\n",
        "\n",
        "    y: exp(x)-exp(-x)/(exp(x)+exp(-x))\n",
        "\n",
        "      a list of value between -1 and 1\n",
        "  \"\"\"\n",
        "  z=(2/(1+np.exp(-2*x)))-1\n",
        "  return z\n",
        "  \n"
      ],
      "metadata": {
        "id": "JbYfN5Cw2LLp"
      },
      "execution_count": null,
      "outputs": []
    },
    {
      "cell_type": "code",
      "source": [
        "def dtanh(x):\n",
        "  \"\"\"\n",
        "  Parameters\n",
        "  ----------\n",
        "    x: an array\n",
        "\n",
        "  return\n",
        "  ------\n",
        "\n",
        "    y: 1- tanh(x)**2\n",
        "\n",
        "      a list of value of the derivative of sigmoid\n",
        "  \"\"\"\n",
        "  tan=(2/(1+np.exp(-2*x)))-1\n",
        "  z1=1-tan**2\n",
        "  return z1"
      ],
      "metadata": {
        "id": "5jaQSUF_3uWY"
      },
      "execution_count": null,
      "outputs": []
    },
    {
      "cell_type": "code",
      "source": [
        "fig, ax = plt.subplots(figsize=(9, 5))\n",
        "ax.spines['left'].set_position('center')\n",
        "ax.spines['bottom'].set_position('center')\n",
        "ax.spines['right'].set_color('none')\n",
        "ax.spines['top'].set_color('none')\n",
        "ax.xaxis.set_ticks_position('bottom')\n",
        "ax.yaxis.set_ticks_position('left')\n",
        "plt.axhline(y=1, color=\"r\", linestyle=\"--\")\n",
        "plt.axhline(y=-1, color=\"r\", linestyle=\"--\")\n",
        "# Create and show plot\n",
        "ax.plot(x,tanh(x), linewidth=3, label=\"tanh\")\n",
        "ax.plot(x,dtanh(x), linewidth=3, label=\"derivative\")\n",
        "ax.legend(loc=\"upper left\", frameon=False)\n",
        "fig.show()"
      ],
      "metadata": {
        "colab": {
          "base_uri": "https://localhost:8080/",
          "height": 303
        },
        "id": "vqEoHCR12sP7",
        "outputId": "9b5b0a9a-e8b2-4ed1-b18a-c82a844e277b"
      },
      "execution_count": null,
      "outputs": [
        {
          "output_type": "display_data",
          "data": {
            "text/plain": [
              "<Figure size 648x360 with 1 Axes>"
            ],
            "image/png": "[encoded data removed]"
          },
          "metadata": {
            "needs_background": "light"
          }
        }
      ]
    },
    {
      "cell_type": "code",
      "source": [
        "# Rectified Linear Unit (ReLU)\n",
        "def ReLU(x):\n",
        "  \"\"\"\n",
        "  Parameters\n",
        "  ----------\n",
        "    x: an array\n",
        "\n",
        "  return:\n",
        "\n",
        "    y: max(0, x)\n",
        "\n",
        "      a list of value of from 0 to x. \n",
        "\n",
        "  >>>: ReLU(x)= x if x>0 and 0 otherwise\n",
        "  \"\"\"\n",
        "  # data = None\n",
        "  # return np.array(data, dtype=float)\n",
        "  # for i in x:\n",
        "  #   if i>0:\n",
        "  #     return i\n",
        "  # else:\n",
        "  #   return 0\n",
        "  data = [max(0,i) for i in x]\n",
        "  return np.array(data, dtype = float)\n",
        "  #return x*(x>0)\n",
        "\n",
        "# Derivative for ReLU\n",
        "def der_ReLU(x):\n",
        "  \"\"\"\n",
        "  Parameters\n",
        "  ----------\n",
        "    x: an array\n",
        "\n",
        "  return\n",
        "  ------\n",
        "\n",
        "    y: 1 if x >0 and 0 otherwise\n",
        "\n",
        "      a list of value of derivative of relu.\n",
        "  \"\"\"\n",
        "  # data =range(-10,10)\n",
        "  # return np.array(data, dtype=float)\n",
        "  # for i in x:\n",
        "  #   if i>0:\n",
        "  #     return 1\n",
        "  #   else:\n",
        "  #     return 0\n",
        "  return 1*(x>0)"
      ],
      "metadata": {
        "id": "xZVhXfnjTPh9"
      },
      "execution_count": null,
      "outputs": []
    },
    {
      "cell_type": "code",
      "source": [
        "fig, ax = plt.subplots(figsize=(9, 5))\n",
        "plt.axhline(y=0, color=\"r\", linestyle=\"--\")\n",
        "ax.plot(x,ReLU(x), linewidth=3, label=\"relu\")\n",
        "ax.plot(x,der_ReLU(x), linewidth=3, label=\"derivative\")\n",
        "ax.legend(loc=\"upper left\", frameon=False)\n",
        "fig.show()"
      ],
      "metadata": {
        "colab": {
          "base_uri": "https://localhost:8080/",
          "height": 320
        },
        "id": "JhK777tO5pcR",
        "outputId": "b91337ca-779b-4b6d-e996-12721f0e08f6"
      },
      "execution_count": null,
      "outputs": [
        {
          "output_type": "display_data",
          "data": {
            "text/plain": [
              "<Figure size 648x360 with 1 Axes>"
            ],
            "image/png": "[encoded data removed]"
          },
          "metadata": {
            "needs_background": "light"
          }
        }
      ]
    },
    {
      "cell_type": "code",
      "source": [
        "def leaky_ReLU(x):\n",
        "  \"\"\"\n",
        "  Parameters\n",
        "  ----------\n",
        "    x: an array\n",
        "\n",
        "  return\n",
        "  ------\n",
        "\n",
        "    y: max(0.01x, x)\n",
        "\n",
        "      a list of value of from 0.01x to x. \n",
        "\n",
        "  >>>: ReLU(x)= x if x>0 and 0.01x otherwise\n",
        "  \"\"\"\n",
        "  data = [max(0.01*i,i) for i in x]\n",
        "  return np.array(data, dtype = float)"
      ],
      "metadata": {
        "id": "Bx0z0YCLRVNR"
      },
      "execution_count": null,
      "outputs": []
    },
    {
      "cell_type": "code",
      "source": [
        "def der_leaky_ReLU(x):\n",
        "  \"\"\"\n",
        "  Parameters\n",
        "  ----------\n",
        "    x: an array\n",
        "\n",
        "  return\n",
        "  ------\n",
        "\n",
        "    y: 1 if x >0 and 0.01 otherwise\n",
        "\n",
        "      a list of value of derivative of leakyrelu.\n",
        "  \"\"\"\n",
        "  data = np.where(x>0,1,0)\n",
        "  return np.array(data, dtype=float)"
      ],
      "metadata": {
        "id": "Jm36018dRVQg"
      },
      "execution_count": null,
      "outputs": []
    },
    {
      "cell_type": "code",
      "source": [
        "# Setup centered axes\n",
        "fig, ax = plt.subplots(figsize=(9, 5))\n",
        "# Create and show plot\n",
        "plt.axhline(y=0, color=\"r\", linestyle=\"--\")\n",
        "ax.plot(x,leaky_ReLU(x), linewidth=3, label=\"leaky_ReLU\")\n",
        "ax.plot(x,der_leaky_ReLU(x), linewidth=3, label=\"derivative\")\n",
        "ax.legend(loc=\"upper left\", frameon=False)\n",
        "fig.show()"
      ],
      "metadata": {
        "colab": {
          "base_uri": "https://localhost:8080/",
          "height": 320
        },
        "id": "TCjLdzqlLVK5",
        "outputId": "7d2ed1ea-5c7c-40ee-eb10-fd4792f7b116"
      },
      "execution_count": null,
      "outputs": [
        {
          "output_type": "display_data",
          "data": {
            "text/plain": [
              "<Figure size 648x360 with 1 Axes>"
            ],
            "image/png": "[encoded data removed]"
          },
          "metadata": {
            "needs_background": "light"
          }
        }
      ]
    },
    {
      "cell_type": "code",
      "source": [
        "def cross_entropy(y,y_pred):\n",
        "  \"\"\"\n",
        "  Parameters\n",
        "  ----------\n",
        "    y: an array\n",
        "    y_pred: array\n",
        "\n",
        "  return\n",
        "  ------\n",
        "    -np.sum(y*np.log(y_pred)+(1-y)*np.log(1-y_pred))/len(y): float\n",
        "  \"\"\"\n",
        "  loss=  -np.sum(y*np.log(y_pred)+(1-y)*np.log(1-y_pred))/len(y)\n",
        "  return loss"
      ],
      "metadata": {
        "id": "bjUYbA497kfe"
      },
      "execution_count": null,
      "outputs": []
    },
    {
      "cell_type": "code",
      "source": [
        "## Get dimension of layers\n",
        "input_dim= 8 # number of features\n",
        "hidden_dim= 16 # number of units in the hideen layer\n",
        "output_dim= 1 # number of units in the output layer"
      ],
      "metadata": {
        "id": "Cpf9HGkV6QV-"
      },
      "execution_count": null,
      "outputs": []
    },
    {
      "cell_type": "code",
      "source": [
        "np.random.seed(123)\n",
        "def weight_initialization(input_dim, hidden_dim, output_dim):\n",
        "\n",
        "  \"\"\"\n",
        "  Parameters\n",
        "  ---------\n",
        "    input_dim: an integer\n",
        "    hidden_dim: an integer\n",
        "    output_dim: an integer\n",
        "  \n",
        "  Return\n",
        "  ------\n",
        "    w1: an array of shape (hidden_dim, input_dim)\n",
        "    b1: an array of shape (hidden_dim, 1). Bias vector\n",
        "    w2: an array of shape (output_dim, hidden_dim)\n",
        "    b2: an array of shape (1, 1)\n",
        "  \n",
        "  \"\"\"\n",
        "\n",
        "  w1 =np.random.randn(hidden_dim,input_dim)*0.0001\n",
        "  #print(w1.shape) #(hidden_dim, input_dim)\n",
        "  b1 = np.random.randn(hidden_dim,1) # (hidden_dim, 1)\n",
        "\n",
        "  w2 = np.random.randn(output_dim,hidden_dim)*0.0001 #output_dim, hidden_dim)\n",
        "  b2 = np.random.randn(output_dim,1)# (output_dim, 1)\n",
        "\n",
        "  # w1 = np.random.randn(hidden_dim*input_dim).reshape(hidden_dim,input_dim)* 1e-2 # (hidden_dim, input_dim)\n",
        "  # b1 = np.random.randn(hidden_dim).reshape(hidden_dim,1) # (hidden_dim, 1)\n",
        "\n",
        "  # w2 = np.random.randn(output_dim * hidden_dim).reshape(output_dim, hidden_dim)*1e-2 # (output_dim, hidden_dim)\n",
        "  # b2 = np.random.randn(output_dim).reshape(output_dim, 1)\n",
        "\n",
        "  assert (w1.shape==(hidden_dim, input_dim)), 'check the shape of w1'\n",
        "  assert (b1.shape==(hidden_dim, 1)), 'check the shape of b1'\n",
        "  assert (w2.shape==(output_dim, hidden_dim)), 'check the shape of w2'\n",
        "  assert (b2.shape==(1, 1)), 'check the shape of b2'\n",
        "\n",
        "  print('✅✅✅ Congratulation: Your initialization is correct.')\n",
        "\n",
        "  return w1, b1, w2, b2"
      ],
      "metadata": {
        "id": "6BUYsTV3nl4c"
      },
      "execution_count": null,
      "outputs": []
    },
    {
      "cell_type": "code",
      "source": [
        "w1, b1, w2, b2=weight_initialization(input_dim,hidden_dim,output_dim)"
      ],
      "metadata": {
        "colab": {
          "base_uri": "https://localhost:8080/"
        },
        "id": "KR2Qb_r-n1dx",
        "outputId": "94b9b843-d34f-4fc3-c6d2-aa6abbdc4fa4"
      },
      "execution_count": null,
      "outputs": [
        {
          "output_type": "stream",
          "name": "stdout",
          "text": [
            "✅✅✅ Congratulation: Your initialization is correct.\n"
          ]
        }
      ]
    },
    {
      "cell_type": "code",
      "source": [
        "def forward_pass(x, w1, b1, w2, b2):\n",
        "  \"\"\"\n",
        "  Parameters\n",
        "  ---------\n",
        "    x: an array of N rows\n",
        "    w1: an array of shape (hidden_dim, input_dim)\n",
        "    b1: an array of shape (hidden_dim, 1). Bias vector\n",
        "    w2: an array of shape (output_dim, hidden_dim)\n",
        "    b2: an array of shape (1, 1)\n",
        "  \n",
        "  Return\n",
        "  ------\n",
        "    z1: an array of shape (N, hidden_dim)\n",
        "    a1: an array of shape (N, hidden_dim)\n",
        "    z2: an array of shape (N, output_dim)\n",
        "    a2: an array of shape (N, output_dim)\n",
        "  \"\"\"\n",
        "  z1= w1@x.T+b1 # Transform x by using w1 and b1\n",
        "  a1= tanh(z1) # Apply tanh z1\n",
        "\n",
        "  z2=w2@a1+b2  # Transform z1 by using w2 and b2\n",
        "  a2= sigmoid(z2) # Apply sigmoid on z2\n",
        "\n",
        "  assert (z1.shape==(hidden_dim, x.shape[0])), 'check the shape of z1'\n",
        "  assert (a1.shape==(hidden_dim, x.shape[0])), 'check the shape of a1'\n",
        "\n",
        "  assert (z2.shape==(output_dim, x.shape[0])), 'check the shape of z2'\n",
        "  assert (a2.shape==(output_dim, x.shape[0])), 'check the shape of a2'\n",
        "\n",
        "  print('Congratulation: Your forward is correct.')\n",
        "  return z1, a1, z2, a2"
      ],
      "metadata": {
        "id": "BLmV8Pyc5yg3"
      },
      "execution_count": null,
      "outputs": []
    },
    {
      "cell_type": "code",
      "source": [
        "z1, a1, z2, a2=forward_pass(x_train, w1, b1, w2, b2)"
      ],
      "metadata": {
        "colab": {
          "base_uri": "https://localhost:8080/"
        },
        "id": "270wd4stUaSY",
        "outputId": "35b60b89-387f-4f70-c8d1-4c07226f316e"
      },
      "execution_count": null,
      "outputs": [
        {
          "output_type": "stream",
          "name": "stdout",
          "text": [
            "Congratulation: Your forward is correct.\n"
          ]
        }
      ]
    },
    {
      "cell_type": "code",
      "source": [
        "def backwardpass(x,y, w1, b1, w2, b2):\n",
        "  \"\"\"\n",
        "  Parameters\n",
        "  ---------\n",
        "    x:  an array of N rows\n",
        "    y:  an array of N rows\n",
        "    w1: an array of shape (hidden_dim, input_dim)\n",
        "    b1: an array of shape (hidden_dim, 1). Bias vector\n",
        "    w2: an array of shape (output_dim, hidden_dim)\n",
        "    b2: an array of shape (1, 1)\n",
        "  \n",
        "  Return\n",
        "  ------\n",
        "    dw1: an array of shape (hidden_dim, input_dim)\n",
        "    db1: an array of shape (hidden_dim, 1). Bias vector\n",
        "    dw2: an array of shape (output_dim, hidden_dim)\n",
        "    db2: an array of shape (1, 1)\n",
        "\n",
        "  # \"\"\"\n",
        "   #Forward pass\n",
        "  # z1, a1, z2,a2= forward_pass(x, w1, b1, w2, b2)\n",
        "  # N= len(x)\n",
        "  # #Backward\n",
        "\n",
        "  # dw1= w2.T@(a2-y)@(1-a1.T@a1)@x\n",
        "  # #db1=np.sum(w2.T@(a2-y)@(1-a1.T@a1)).reshape(-1,1)\n",
        "  # db1=(1/N)*np.mean(w2.T@(a2-y)*(1-a1**2), axis= 1).reshape(-1,1)\n",
        "\n",
        "  # assert (dw1.shape== w1.shape), 'The dimension of dw1 and w1 must be the same'\n",
        "  # assert (db1.shape== b1.shape), 'The dimension of db2 and b1 must be the same'\n",
        "\n",
        "\n",
        "  # dw2= (a2 - y)@a1.T\n",
        "  # db2= np.mean((a2-y),1).reshape(1,1)\n",
        "\n",
        "  # # Dimension check\n",
        "  # assert (dw2.shape== w2.shape), 'The dimension of dw2 and w2 must be the same'\n",
        "  # assert (db2.shape== b2.shape), 'The dimension of db2 and b2 must be the same'\n",
        "\n",
        "  # print('Congratulation: Your Backward is correct.')\n",
        "\n",
        "  # return dw1, db1, dw2, db2\n",
        "\n",
        "   # Forward pass\n",
        "  z1, a1, z2, a2= forward_pass(x, w1, b1, w2, b2)\n",
        "  N= len(x)\n",
        "  #Backward\n",
        "\n",
        "  dw2= (a2 - y) @ a1.T\n",
        "  db2= ((1/N)*np.sum((a2 - y),axis = 1)).reshape(1,1)\n",
        "\n",
        "  assert (dw2.shape== w2.shape), 'The dimension of dw1 and w1 must be the same'\n",
        "  assert (db2.shape== b2.shape), 'The dimension of db2 and b1 must be the same'\n",
        "\n",
        "  dw1=  ((w2.T @ (a2 - y)) * (1 - a1**2)) @  x\n",
        "  #print(dw1.shape)\n",
        "  db1= (w2.T @ (a2 - y)) @  (1 - a2**2).T\n",
        "  db1 = np.sum(db1, axis=1)/N\n",
        "  #print(\"db1\",db1.shape)\n",
        "  db1 = db1[:, np.newaxis]\n",
        "  \n",
        "  # Dimension check\n",
        "  assert (dw1.shape== w1.shape), 'The dimension of dw2 and w2 must be the same'\n",
        "  assert (db1.shape== b1.shape), 'The dimension of db2 and b2 must be the same'\n",
        "\n",
        "  print('Congratulation: Your Backward is correct.')\n",
        "\n",
        "  return dw1, db1, dw2, db2\n"
      ],
      "metadata": {
        "id": "MSD50UnI6TlF"
      },
      "execution_count": null,
      "outputs": []
    },
    {
      "cell_type": "code",
      "source": [
        ""
      ],
      "metadata": {
        "id": "kCj1sZk29hMN"
      },
      "execution_count": null,
      "outputs": []
    },
    {
      "cell_type": "code",
      "source": [
        "dw1, db1, dw2, db2=backwardpass(x_train,y_train, w1, b1, w2, b2)"
      ],
      "metadata": {
        "colab": {
          "base_uri": "https://localhost:8080/"
        },
        "id": "3XbUUHD0Wg1r",
        "outputId": "8afe6ca4-552e-437a-fa86-b519e4f4b0c2"
      },
      "execution_count": null,
      "outputs": [
        {
          "output_type": "stream",
          "name": "stdout",
          "text": [
            "Congratulation: Your forward is correct.\n",
            "Congratulation: Your Backward is correct.\n"
          ]
        }
      ]
    },
    {
      "cell_type": "code",
      "source": [
        "def train(x,y,w1,b1, w2, b2):\n",
        "  \"\"\"\n",
        "  Parameters\n",
        "  ---------\n",
        "    x:  an array of N rows\n",
        "    y:  an array of N rows\n",
        "    w1: an array of shape (hidden_dim, input_dim)\n",
        "    b1: an array of shape (hidden_dim, 1). Bias vector\n",
        "    w2: an array of shape (output_dim, hidden_dim)\n",
        "    b2: an array of shape (1, 1)\n",
        "  \n",
        "  Return\n",
        "  ------\n",
        "    cost: an array of shape (num_epochs, )\n",
        "    cost_test: an array of shape (num_epochs, ).\n",
        "    w1: an array of shape (hidden_dim, input_dim)\n",
        "    b1: an array of shape (hidden_dim, 1). Bias vector\n",
        "    w2: an array of shape (output_dim, hidden_dim)\n",
        "    b2: an array of shape (1, 1)\n",
        "  \"\"\"\n",
        "\n",
        "  lr = 0.001\n",
        "  num_epochs =300\n",
        "\n",
        "  cost =[]\n",
        "  cost_test= []\n",
        "\n",
        "  for i in range(num_epochs):\n",
        "      # Backward Pass\n",
        "      dw1, db1, dw2, db2 = backwardpass(x,y, w1, b1, w2, b2)\n",
        "\n",
        "      # Update weights\n",
        "      w1= w1-lr*dw1\n",
        "      b1=  b1-lr*db1\n",
        "\n",
        "\n",
        "      w2=w2-lr*dw2\n",
        "      b2= b2-lr*db2\n",
        "\n",
        "      # Get the Train Loss: forward pass and cross-entropy computatation\n",
        "      z1, a1, z2,y_pred= forward_pass(x_train, w1, b1, w2, b2)\n",
        "      c = cross_entropy(y_train,y_pred)\n",
        "      cost.append(c)\n",
        "\n",
        "      # Get the Test Loss: forward pass and cross-entropy computatation\n",
        "      z1, a1, z2,y_pred_test=forward_pass(x_test, w1, b1, w2, b2)\n",
        "      c_test = cross_entropy(y_test.T,y_pred_test)\n",
        "      cost_test.append(c_test)\n",
        "  \n",
        "  return cost, cost_test, w1, b1, w2, b2"
      ],
      "metadata": {
        "id": "_9n4qxdP6WCb"
      },
      "execution_count": null,
      "outputs": []
    },
    {
      "cell_type": "code",
      "source": [
        "cost, cost_test, w1, b1, w2, b2= train(x_train,y_train,w1,b1, w2, b2)"
      ],
      "metadata": {
        "id": "MujbiL9Y-utM"
      },
      "execution_count": null,
      "outputs": []
    },
    {
      "cell_type": "code",
      "source": [
        "def plot(cost, cost_test):\n",
        "  plt.xlabel('Epochs')\n",
        "  plt.ylabel('Cost')\n",
        "  plt.plot(np.arange(len(cost)), cost, 'r', linewidth = \"2\", label= 'Train Loss')\n",
        "  plt.plot(np.arange(len(cost_test)), cost_test, 'b', linewidth = \"2\", label= 'Validation Loss')\n",
        "  plt.legend()\n",
        "  plt.show()"
      ],
      "metadata": {
        "id": "4BQkZDH3_B2E"
      },
      "execution_count": null,
      "outputs": []
    },
    {
      "cell_type": "code",
      "source": [
        "plot(cost, cost_test)"
      ],
      "metadata": {
        "colab": {
          "base_uri": "https://localhost:8080/",
          "height": 279
        },
        "id": "7IF9lnAY_cdZ",
        "outputId": "2df822de-6219-482a-a5fe-157a02c5d898"
      },
      "execution_count": null,
      "outputs": [
        {
          "output_type": "display_data",
          "data": {
            "text/plain": [
              "<Figure size 432x288 with 1 Axes>"
            ],
            "image/png": "[encoded data removed]"
          },
          "metadata": {
            "needs_background": "light"
          }
        }
      ]
    },
    {
      "cell_type": "code",
      "source": [
        "threshold= 0.5\n",
        "def get_class(x):\n",
        "  # Foward pass on x\n",
        "  _,_,_,proba= forward_pass(x_test, w1, b1, w2, b2)# Get probability of x\n",
        "  result= [1 if i>threshold else 0 for i in proba.reshape(-1,1)] # Convert proba to 0 or 1. hint: list comprehension\n",
        "  return np.array(result), proba"
      ],
      "metadata": {
        "id": "vLhmfjo36aAr"
      },
      "execution_count": null,
      "outputs": []
    },
    {
      "cell_type": "code",
      "source": [
        "y_pred, y_proba= get_class(x_test)\n"
      ],
      "metadata": {
        "colab": {
          "base_uri": "https://localhost:8080/"
        },
        "id": "L6Mez2xt_-NL",
        "outputId": "365b36a4-a25d-4ffe-cb49-c4b331a6e722"
      },
      "execution_count": null,
      "outputs": [
        {
          "output_type": "stream",
          "name": "stdout",
          "text": [
            "Congratulation: Your forward is correct.\n"
          ]
        }
      ]
    },
    {
      "cell_type": "code",
      "source": [
        "np.sum(y_pred==y_test)/len(y_test)"
      ],
      "metadata": {
        "colab": {
          "base_uri": "https://localhost:8080/"
        },
        "id": "4owxSrz7_QBp",
        "outputId": "be00c30b-5a4a-4325-9792-1a0daa8cd95c"
      },
      "execution_count": null,
      "outputs": [
        {
          "output_type": "execute_result",
          "data": {
            "text/plain": [
              "0.8181818181818182"
            ]
          },
          "metadata": {},
          "execution_count": 40
        }
      ]
    },
    {
      "cell_type": "code",
      "source": [
        "def accuracy(y, y_pred):\n",
        "  #acc= len(y[y_pred==y])/len(y)\n",
        "  acc = len(y[y==y_pred])/len(y)\n",
        "  assert (acc >= 0.75), 'Try again! your accuracy is not good. {}'.format(acc)\n",
        "  print('✅✅✅ Congratulation! your accuracy is good.')\n",
        "  return acc"
      ],
      "metadata": {
        "id": "bwW7adaM6cYc"
      },
      "execution_count": null,
      "outputs": []
    },
    {
      "cell_type": "code",
      "source": [
        "accuracy(y_test, y_pred)\n"
      ],
      "metadata": {
        "colab": {
          "base_uri": "https://localhost:8080/"
        },
        "id": "uo5i-Vx9BXd_",
        "outputId": "79eb7ff6-c19d-4e8b-8597-207960f55375"
      },
      "execution_count": null,
      "outputs": [
        {
          "output_type": "stream",
          "name": "stdout",
          "text": [
            "✅✅✅ Congratulation! your accuracy is good.\n"
          ]
        },
        {
          "output_type": "execute_result",
          "data": {
            "text/plain": [
              "0.8051948051948052"
            ]
          },
          "metadata": {},
          "execution_count": 35
        }
      ]
    },
    {
      "cell_type": "markdown",
      "source": [
        "---\n",
        "___\n",
        "<p align= 'center'> <strong> End of coding from scratch </strong></p>\n",
        "\n",
        "---\n",
        "___"
      ],
      "metadata": {
        "id": "-IO9q7Q5d3lg"
      }
    },
    {
      "cell_type": "code",
      "source": [
        ""
      ],
      "metadata": {
        "id": "9JQDjbIbJuQP"
      },
      "execution_count": null,
      "outputs": []
    },
    {
      "cell_type": "code",
      "source": [
        "# BGD\n",
        "class NN:\n",
        "  def __init__(self, x_test, y_test, size, num_epochs= 4000, lr= 0.001, threshold= 0.5):\n",
        "    self.y_test=y_test\n",
        "    self.x_test= x_test\n",
        "    self.size=size\n",
        "    self.num_epochs=num_epochs\n",
        "    self.lr=lr\n",
        "    self.threshhold=threshold\n",
        "    self.params= None\n",
        "    self.cost_test=[]\n",
        "    self.cost_train=[]\n",
        "    '''\n",
        "    size: a list of dimensions\n",
        "    '''\n",
        "\n",
        "  def sigmoid(self,x):\n",
        "    z=1/(1+np.exp(-x))\n",
        "    return z\n",
        " \n",
        "  \n",
        "  def dsigmoid(self,x):\n",
        "    # sigmoid=1/(1+np.exp(-x))\n",
        "    # sigmoid1=1-self.sigmoid(x)\n",
        "    # z=sigmoid*sigmoid1\n",
        "    return self.sigmoid(x)*(1-self.sigmoid(x))\n",
        "      \n",
        "\n",
        "  def tanh(self,x):\n",
        "    # z=(2/(1+np.exp(-2*x)))-1\n",
        "    return (np.exp(x)-np.exp(-x))/(np.exp(x)+np.exp(-x))\n",
        "\n",
        "  def dtanh(self,x):\n",
        "    #tan=(2/(1+np.exp(-2*x)))-1\n",
        "    dz=1-self.tanh(x)**2\n",
        "    return dz\n",
        "  def cross_entropy(self,y,y_pred):\n",
        "    loss=  -np.sum(y*np.log(y_pred)+(1-y)*np.log(1-y_pred))/len(y)\n",
        "    return loss\n",
        "  \n",
        "  def weight_initialization(self):\n",
        "    input_dim= self.size[0]\n",
        "    hidden_dim= self.size[1]\n",
        "    output_dim= self.size[2]\n",
        "\n",
        "    self.params = {\n",
        "            'w1':np.random.randn(hidden_dim,input_dim)*0.001,\n",
        "            'b1':np.random.randn(hidden_dim,1),\n",
        "            'w2':np.random.randn(output_dim,hidden_dim)*0.001,\n",
        "            'b2':np.random.randn(output_dim,1)\n",
        "        }\n",
        "    return self.params\n",
        "\n",
        "  def forward_pass(self, x):\n",
        "\n",
        "    # params=self.params\n",
        "    w1= self.params['w1']\n",
        "    b1= self.params['b1']\n",
        "\n",
        "    w2= self.params['w2']\n",
        "    b2= self.params['b2']\n",
        "\n",
        "    # ForwardPass\n",
        "    z1= w1@x.T+b1 \n",
        "    a1=self.tanh(z1)\n",
        "    \n",
        "\n",
        "    z2=w2@a1+b2\n",
        "    # return a1.shape\n",
        "    \n",
        "    a2=self.sigmoid(z2)\n",
        "\n",
        "\n",
        "    assert (z1.shape==(self.size[1], x.shape[0]))\n",
        "    assert (a1.shape==(self.size[1], x.shape[0]))\n",
        "\n",
        "    assert (z2.shape==(self.size[2], x.shape[0]))\n",
        "    assert (a2.shape==(self.size[2], x.shape[0]))\n",
        "\n",
        "    print('Congratulation: Your forward is correct.')\n",
        "   \n",
        "\n",
        "    return z1, a1, z2, a2\n",
        "    print(z2.shape,z1.shape,a2.shape)\n",
        "  \n",
        "  \n",
        "  def backward_pass(self, x, y):\n",
        "    #params= self.params\n",
        "\n",
        "\n",
        "    w1= self.params['w1']\n",
        "    b1= self.params['b1']\n",
        "\n",
        "    w2= self.params['w2']\n",
        "    b2= self.params['b2']\n",
        "\n",
        "    # Backward\n",
        "\n",
        "\n",
        "    z1, a1, z2,a2= self.forward_pass(x)\n",
        "    N= len(x)\n",
        "\n",
        "    dw1= w2.T@(a2-y)*(1-a1**2)@x\n",
        "    db1= np.sum(w2.T@(a2-y)*(1-a1**2), axis= 1).reshape(-1,1)\n",
        "    assert (dw1.shape== w1.shape), 'The dimension of dw1 and w1 must be the same'\n",
        "    assert (db1.shape== b1.shape), 'The dimension of db2 and b1 must be the same'\n",
        "\n",
        "\n",
        "    dw2=(a2-y)@a1.T\n",
        "    db2=np.sum((a2-y), axis=1).reshape(-1,1)\n",
        "\n",
        "\n",
        "    #dw1= w2.T@(a2-y)*(1-a1**2)@x\n",
        "    #db1= (1/N)*np.sum(w2.T@(a2-y)*(1-a1**2), axis= 1).reshape(-1,1)\n",
        " \n",
        "    #assert (dw1.shape== w1.shape), 'The dimension of dw1 and w1 must be the same'\n",
        "    #assert (db1.shape== b1.shape), 'The dimension of db2 and b1 must be the same'\n",
        "\n",
        "    #dw2= (a2-y)@a1.T\n",
        "    #db2=np.mean((a2-y)).reshape(1,1)\n",
        "    # Dimension check\n",
        "    assert (dw2.shape== w2.shape), 'The dimension of dw2 and w2 must be the same'\n",
        "    assert (db2.shape== b2.shape), 'The dimension of db2 and b2 must be the same'\n",
        "\n",
        "    print('Congratulation: Your Backward is correct.')\n",
        "\n",
        "    return dw1, db1, dw2, db2\n",
        "\n",
        "  def train(self, x, y):\n",
        "    self.params=self.weight_initialization()\n",
        "    for i in range(self.num_epochs):\n",
        "\n",
        "      # Get Params\n",
        "\n",
        "      \n",
        "\n",
        "      w1= self.params['w1']\n",
        "      b1= self.params['b1']\n",
        "\n",
        "      w2= self.params['w2']\n",
        "      b2= self.params['b2']\n",
        "\n",
        "      dw1, db1, dw2, db2 = self.backward_pass(x,y)\n",
        "\n",
        "      # Update parameters\n",
        "      w1 -= self.lr* dw1\n",
        "      b1 -= self.lr*db1\n",
        "      w2 -= self.lr*dw2\n",
        "      b2 -= self.lr*db2\n",
        "\n",
        "      self.params = {\n",
        "            'w1':w1,\n",
        "            'b1':b1,\n",
        "            'w2':w2,\n",
        "            'b2':b2\n",
        "        }\n",
        "\n",
        "      # Train Loss\n",
        "      z1, a1, z2,y_pred=self.forward_pass(x)\n",
        "      self.cost_train.append(self.cross_entropy(y,y_pred))\n",
        "\n",
        "      # Test Loss\n",
        "      z1, a1, z2,y_pred_test=self.forward_pass(self.x_test)\n",
        "      self.cost_test.append(self.cross_entropy(self.y_test,y_pred_test))\n",
        "    \n",
        "  \n",
        "  def get_class(self,x):\n",
        "    w1, b1, w2, b2=self.forward_pass(x)\n",
        "    _,_,_,proba=self.forward_pass(x)  # Get probability of x\n",
        "    result=np.where(proba<self.threshhold,0,1) # Convert proba to 0 or 1. hint: list comprehension\n",
        "    return np.array(result), proba\n",
        "\n",
        "  def accuracy(self, y,y_pred):\n",
        "    acc = np.sum([y==y_pred])/len(y)\n",
        "    assert (acc >= 0.75), 'Try again! your accuracy is not good. {}'.format(acc)\n",
        "    print('✅✅✅ Congratulation! your accuracy is good.')\n",
        "    return acc*100\n",
        "\n",
        "  def plot(self):\n",
        "    plt.xlabel('Epochs')\n",
        "    plt.ylabel('Cost')\n",
        "    plt.plot(np.arange(len(self.cost_train)), self.cost_train, 'r', linewidth = \"2\", label= 'Train Loss')\n",
        "    plt.plot(np.arange(len(self.cost_test)), self.cost_test, 'b', linewidth = \"2\", label= 'Validation Loss')\n",
        "    plt.legend()\n",
        "    plt.show()"
      ],
      "metadata": {
        "id": "xACAIzEPFB_p"
      },
      "execution_count": null,
      "outputs": []
    },
    {
      "cell_type": "code",
      "source": [
        "model =NN(x_test,y_test,size=[data.shape[1]-1,16,1], num_epochs= 400, lr= 0.001, threshold= 0.5)\n",
        "model.train(x_train,y_train)"
      ],
      "metadata": {
        "id": "BHCsueDQQqsl"
      },
      "execution_count": null,
      "outputs": []
    },
    {
      "cell_type": "code",
      "source": [
        "model.plot()"
      ],
      "metadata": {
        "colab": {
          "base_uri": "https://localhost:8080/",
          "height": 279
        },
        "id": "9x2m23WTgSTU",
        "outputId": "ebaf9fb6-86b3-421a-c2ae-ae5ec50c18f7"
      },
      "execution_count": null,
      "outputs": [
        {
          "output_type": "display_data",
          "data": {
            "text/plain": [
              "<Figure size 432x288 with 1 Axes>"
            ],
            "image/png": "[encoded data removed]"
          },
          "metadata": {
            "needs_background": "light"
          }
        }
      ]
    },
    {
      "cell_type": "code",
      "source": [
        "\n",
        "y_pred, y_proba= model.get_class(x_test)\n",
        "model.accuracy(y_test, y_pred)"
      ],
      "metadata": {
        "colab": {
          "base_uri": "https://localhost:8080/"
        },
        "id": "GTdDr_rIZQ46",
        "outputId": "ecc0d173-9b74-430c-c89f-64d414702438"
      },
      "execution_count": null,
      "outputs": [
        {
          "output_type": "stream",
          "name": "stdout",
          "text": [
            "Congratulation: Your forward is correct.\n",
            "Congratulation: Your forward is correct.\n",
            "✅✅✅ Congratulation! your accuracy is good.\n"
          ]
        },
        {
          "output_type": "execute_result",
          "data": {
            "text/plain": [
              "81.81818181818183"
            ]
          },
          "metadata": {},
          "execution_count": 39
        }
      ]
    },
    {
      "cell_type": "code",
      "source": [
        ""
      ],
      "metadata": {
        "id": "u1YKieT4sXEm"
      },
      "execution_count": null,
      "outputs": []
    }
  ]
}