{
  "nbformat": 4,
  "nbformat_minor": 0,
  "metadata": {
    "colab": {
      "name": "Stephen Kiilu K_Means",
      "provenance": [],
      "collapsed_sections": []
    },
    "kernelspec": {
      "name": "python3",
      "display_name": "Python 3"
    }
  },
  "cells": [
    {
      "cell_type": "markdown",
      "source": [
        "![aims](https://aims-senegal.org/wp-content/uploads/sites/2/2020/10/aims_senegal.jpg)"
      ],
      "metadata": {
        "id": "tY0ZpIeDFi6J"
      }
    },
    {
      "cell_type": "markdown",
      "source": [
        "Please **make a copy of this notebook** before starting updating"
      ],
      "metadata": {
        "id": "-0rkhcDkRgK1"
      }
    },
    {
      "cell_type": "markdown",
      "source": [
        "# **K Means Clustering**"
      ],
      "metadata": {
        "id": "Oo4v4lZFFml4"
      }
    },
    {
      "cell_type": "markdown",
      "source": [
        "It is an unsupervised machine learning algorithm that is used for clustering (grouping).\n",
        "\n",
        "---\n",
        "\n",
        "Clustering is a technique that allows us to find groups of similar objects, objects that are more related to each other than to objects in other groups. \n",
        "\n",
        "Examples of clustering applications include the grouping of articles by different topics, or finding customers that share similar interests based on common purchase behaviors.\n",
        "\n",
        "---\n",
        "\n",
        "K-means is one of the most popular \"clustering\" algorithms. The K-means algorithm assign **K** centroids that it used to define the clusters. A point is considered to be in a particular cluster if it is closer to that cluster's centroid than any other centroid.\n",
        "\n",
        "---"
      ],
      "metadata": {
        "id": "wltJFa2iFqKp"
      }
    },
    {
      "cell_type": "markdown",
      "source": [
        "## **The Algorithm**\n",
        "\n",
        "\n",
        "We are given a training set ${x^{(1)}, ... , x^{(m)}}$, and want to group the data into a few cohesive \"clusters.\" Here, we are given feature vectors for each data point $x^{(i)} \\in \\mathbb{R}^n$ as usual; but no labels $y^{(i)}$. Our goal is to predict $k$ centroids and a label $c^{(i)}$ for each datapoint. The k-means clustering algorithm is as follows:\n",
        "\n",
        "\n",
        "\n",
        "1.   Select the number of clusters k\n",
        "1.   Randomly pick k centroids from the sample points as initial cluster centers.\n",
        "2.   Assign each sample to the nearest centroid j : j ∈ {1, …, k}.\n",
        "3.   Move the centroids to the center of the samples that were assigned to it.\n",
        "\n",
        "4.   Repeat steps 2 and 3 until the cluster assignments do not change or a user-defined tolerance or maximum number of iterations is reached.\n"
      ],
      "metadata": {
        "id": "4MNPjt7MLmL1"
      }
    },
    {
      "cell_type": "markdown",
      "source": [
        "![aims](https://upload.wikimedia.org/wikipedia/commons/e/ea/K-means_convergence.gif)"
      ],
      "metadata": {
        "id": "fQPbrqKhFv-p"
      }
    },
    {
      "cell_type": "markdown",
      "source": [
        "# **Toy Example**"
      ],
      "metadata": {
        "id": "uCJTyr9NHX6c"
      }
    },
    {
      "cell_type": "markdown",
      "source": [
        "The dataset we are about to create consists of 150 randomly generated points that are roughly grouped into three regions with higher density, which is visualized via a two-dimensional scatterplot.\n",
        "\n",
        "\n"
      ],
      "metadata": {
        "id": "mqzXmX6HHlVz"
      }
    },
    {
      "cell_type": "code",
      "source": [
        "import matplotlib.pyplot as plt\n",
        "from sklearn.datasets import make_blobs\n",
        "from sklearn.cluster import KMeans\n",
        "\n",
        "# create dataset\n",
        "X, y = make_blobs(\n",
        "   n_samples=150, n_features=2,\n",
        "   centers=3, cluster_std=0.5,\n",
        "   shuffle=True, random_state=0\n",
        ")\n",
        "\n"
      ],
      "metadata": {
        "id": "rsBEm_-CHWmb"
      },
      "execution_count": null,
      "outputs": []
    },
    {
      "cell_type": "code",
      "source": [
        "# plot\n",
        "plt.scatter(\n",
        "   X[:, 0], X[:, 1],\n",
        "   c='white', marker='o',\n",
        "   edgecolor='black', s=50\n",
        ")\n",
        "plt.show()\n"
      ],
      "metadata": {
        "colab": {
          "base_uri": "https://localhost:8080/",
          "height": 265
        },
        "id": "qDPTXneOzE1N",
        "outputId": "15acdab7-ab3f-4141-fa41-e8a8df7a7ae2"
      },
      "execution_count": null,
      "outputs": [
        {
          "output_type": "display_data",
          "data": {
            "image/png": "[encoded data removed]",
            "text/plain": [
              "<Figure size 432x288 with 1 Axes>"
            ]
          },
          "metadata": {
            "needs_background": "light"
          }
        }
      ]
    },
    {
      "cell_type": "code",
      "source": [
        "X"
      ],
      "metadata": {
        "id": "ydwbLYyQEEaX"
      },
      "execution_count": null,
      "outputs": []
    },
    {
      "cell_type": "code",
      "source": [
        "km = KMeans(\n",
        "    n_clusters=3, init='random',\n",
        "    n_init=10, max_iter=300, \n",
        "    random_state=0\n",
        ")\n",
        "y_km = km.fit_predict(X)"
      ],
      "metadata": {
        "id": "WRfKYriTHWkc"
      },
      "execution_count": null,
      "outputs": []
    },
    {
      "cell_type": "markdown",
      "source": [
        "where: \n",
        "\n",
        "**n_clusters:** the number of centroids to generate.\n",
        "\n",
        "**init:** method for centroids initialization\n",
        "\n",
        "‘random’: choose n_clusters observations (rows) at random from data for the initial centroids.\n",
        "\n",
        "\n",
        "**n_init:** Number of time the k-means algorithm will be run with different centroid seeds. The final results will be the best output of n_init consecutive runs in terms of inertia.\n",
        "\n",
        "\n",
        "**max_iter:** Maximum number of iterations of the k-means algorithm for a single run.   \n",
        "\n",
        "**random_state:** Determines random number generation for centroid initializatio"
      ],
      "metadata": {
        "id": "DpH9EWgdNgt_"
      }
    },
    {
      "cell_type": "code",
      "source": [
        "y_km"
      ],
      "metadata": {
        "colab": {
          "base_uri": "https://localhost:8080/"
        },
        "id": "C-0GKrZczXH-",
        "outputId": "c65abb54-6716-487b-ea1d-2a625d195960"
      },
      "execution_count": null,
      "outputs": [
        {
          "output_type": "execute_result",
          "data": {
            "text/plain": [
              "array([1, 0, 0, 0, 1, 0, 0, 1, 2, 0, 1, 2, 2, 0, 0, 2, 2, 1, 2, 1, 0, 1,\n",
              "       0, 0, 2, 1, 1, 0, 2, 1, 2, 2, 2, 2, 0, 1, 1, 1, 0, 0, 2, 2, 0, 1,\n",
              "       1, 1, 2, 0, 2, 0, 1, 0, 0, 1, 1, 2, 0, 1, 2, 0, 2, 2, 2, 2, 0, 2,\n",
              "       0, 1, 0, 0, 0, 1, 1, 0, 1, 0, 0, 2, 2, 0, 1, 1, 0, 0, 1, 1, 1, 2,\n",
              "       2, 1, 1, 0, 1, 0, 1, 0, 2, 2, 1, 1, 1, 1, 2, 1, 1, 0, 2, 0, 0, 0,\n",
              "       2, 0, 1, 2, 0, 2, 0, 0, 2, 2, 0, 1, 0, 0, 1, 1, 2, 1, 2, 2, 2, 2,\n",
              "       1, 2, 2, 2, 0, 2, 1, 2, 0, 0, 1, 1, 2, 2, 2, 2, 1, 1], dtype=int32)"
            ]
          },
          "metadata": {},
          "execution_count": 10
        }
      ]
    },
    {
      "cell_type": "code",
      "source": [
        "# plot the 3 clusters\n",
        "plt.scatter(\n",
        "    X[y_km == 0, 0], X[y_km == 0, 1],\n",
        "    s=50, c='lightgreen',\n",
        "    marker='s', edgecolor='black',\n",
        "    label='cluster 1'\n",
        ")\n",
        "\n",
        "plt.scatter(\n",
        "    X[y_km == 1, 0], X[y_km == 1, 1],\n",
        "    s=50, c='orange',\n",
        "    marker='o', edgecolor='black',\n",
        "    label='cluster 2'\n",
        ")\n",
        "\n",
        "plt.scatter(\n",
        "    X[y_km == 2, 0], X[y_km == 2, 1],\n",
        "    s=50, c='lightblue',\n",
        "    marker='v', edgecolor='black',\n",
        "    label='cluster 3'\n",
        ")\n",
        "\n",
        "\n",
        "# plot the centroids\n",
        "plt.scatter(\n",
        "    km.cluster_centers_[:, 0], km.cluster_centers_[:, 1],\n",
        "    s=250, marker='*',\n",
        "    c='red', edgecolor='black',\n",
        "    label='centroids'\n",
        ")\n",
        "plt.legend(scatterpoints=1)\n",
        "plt.grid()\n",
        "plt.show()\n"
      ],
      "metadata": {
        "colab": {
          "base_uri": "https://localhost:8080/",
          "height": 265
        },
        "id": "C3lpK2T9HWhZ",
        "outputId": "bbb22134-6d94-4014-aee0-6c902023bc10"
      },
      "execution_count": null,
      "outputs": [
        {
          "output_type": "display_data",
          "data": {
            "image/png": "[encoded data removed]",
            "text/plain": [
              "<Figure size 432x288 with 1 Axes>"
            ]
          },
          "metadata": {
            "needs_background": "light"
          }
        }
      ]
    },
    {
      "cell_type": "markdown",
      "source": [
        "# **The Elbow Method**"
      ],
      "metadata": {
        "id": "rTdZcM3GJKU2"
      }
    },
    {
      "cell_type": "markdown",
      "source": [
        "A drawback of k-means is that we have to specify the number of clusters, k, before we know what the optimal k is. The number of clusters to choose may not always be so obvious in real-world applications, especially if we are working with a higher dimensional dataset that cannot be visualized.\n",
        "\n",
        "The elbow method is a useful graphical tool to estimate the optimal number of clusters k for a given task. Intuitively, we can say that, if k increases, the within-cluster SSE (“distortion”) will decrease. This is because the samples will be closer to the centroids they are assigned to.\n",
        "\n",
        "The idea behind the elbow method is to identify the value of k where the distortion begins to decrease most rapidly, which will become clearer if we plot the distortion for different values of k:"
      ],
      "metadata": {
        "id": "aDTiSJOIJxmY"
      }
    },
    {
      "cell_type": "code",
      "source": [
        "# calculate distortion for a range of number of cluster\n",
        "distortions = []\n",
        "for i in range(1, 11):\n",
        "    km = KMeans(\n",
        "        n_clusters=i, init='random',\n",
        "        n_init=10, max_iter=300,\n",
        "        random_state=0\n",
        "    )\n",
        "    km.fit(X)\n",
        "    distortions.append(km.inertia_)\n",
        "\n",
        "# plot\n",
        "plt.plot(range(1, 11), distortions, marker='o')\n",
        "plt.xlabel('Number of clusters')\n",
        "plt.ylabel('Distortion')\n",
        "plt.show()"
      ],
      "metadata": {
        "colab": {
          "base_uri": "https://localhost:8080/",
          "height": 279
        },
        "id": "dR6VZXesIbTl",
        "outputId": "4efe32dd-ee16-4ebd-c738-53e6f6e6a4c7"
      },
      "execution_count": null,
      "outputs": [
        {
          "output_type": "display_data",
          "data": {
            "image/png": "[encoded data removed]",
            "text/plain": [
              "<Figure size 432x288 with 1 Axes>"
            ]
          },
          "metadata": {
            "needs_background": "light"
          }
        }
      ]
    },
    {
      "cell_type": "markdown",
      "source": [
        "As we can see in the resulting plot, the elbow is located at k = 3, which is evidence that k = 3 is indeed a good choice for this dataset.\n",
        "\n",
        "Improved versions of K-means are:\n",
        "\n",
        "\n",
        "*   [Silhouette plots](https://scikit-learn.org/stable/auto_examples/cluster/plot_kmeans_silhouette_analysis.html), another method used to select the optimal k\n",
        "*    [k-means++](https://https://www.geeksforgeeks.org/ml-k-means-algorithm/), a variant of k-means, that improves clustering results through more clever seeding of the initial cluster centers.\n",
        "\n"
      ],
      "metadata": {
        "id": "DhmhY9lwKYhu"
      }
    },
    {
      "cell_type": "markdown",
      "source": [
        "# **Time to code**"
      ],
      "metadata": {
        "id": "lfLEHRecJQIf"
      }
    },
    {
      "cell_type": "markdown",
      "source": [
        "Now that we have seen how kmeans works, try to implement in on your own using this helper class."
      ],
      "metadata": {
        "id": "4vbsYcWPJXS0"
      }
    },
    {
      "cell_type": "code",
      "metadata": {
        "id": "No609ipqUaAL"
      },
      "source": [
        "import numpy as np\n",
        "import pandas as pd\n",
        "import seaborn as sns\n",
        "import random \n",
        "import matplotlib.pyplot as plt\n",
        "%matplotlib inline"
      ],
      "execution_count": null,
      "outputs": []
    },
    {
      "cell_type": "code",
      "metadata": {
        "id": "znUyZ-p1TcaK",
        "colab": {
          "base_uri": "https://localhost:8080/",
          "height": 206
        },
        "outputId": "ea4f36e1-6023-4c00-d436-3e28d1299d13"
      },
      "source": [
        "#Load the data\n",
        "data = pd.read_csv('/content/Data.csv')\n",
        "data.head()"
      ],
      "execution_count": null,
      "outputs": [
        {
          "output_type": "execute_result",
          "data": {
            "text/html": [
              "\n",
              "  <div id=\"df-1c83bde8-12fc-486f-844b-c492a489eed0\">\n",
              "    <div class=\"colab-df-container\">\n",
              "      <div>\n",
              "<style scoped>\n",
              "    .dataframe tbody tr th:only-of-type {\n",
              "        vertical-align: middle;\n",
              "    }\n",
              "\n",
              "    .dataframe tbody tr th {\n",
              "        vertical-align: top;\n",
              "    }\n",
              "\n",
              "    .dataframe thead th {\n",
              "        text-align: right;\n",
              "    }\n",
              "</style>\n",
              "<table border=\"1\" class=\"dataframe\">\n",
              "  <thead>\n",
              "    <tr style=\"text-align: right;\">\n",
              "      <th></th>\n",
              "      <th>f1</th>\n",
              "      <th>f2</th>\n",
              "      <th>f3</th>\n",
              "      <th>f4</th>\n",
              "    </tr>\n",
              "  </thead>\n",
              "  <tbody>\n",
              "    <tr>\n",
              "      <th>0</th>\n",
              "      <td>5.1</td>\n",
              "      <td>3.5</td>\n",
              "      <td>1.4</td>\n",
              "      <td>0.2</td>\n",
              "    </tr>\n",
              "    <tr>\n",
              "      <th>1</th>\n",
              "      <td>4.9</td>\n",
              "      <td>3.0</td>\n",
              "      <td>1.4</td>\n",
              "      <td>0.2</td>\n",
              "    </tr>\n",
              "    <tr>\n",
              "      <th>2</th>\n",
              "      <td>4.7</td>\n",
              "      <td>3.2</td>\n",
              "      <td>1.3</td>\n",
              "      <td>0.2</td>\n",
              "    </tr>\n",
              "    <tr>\n",
              "      <th>3</th>\n",
              "      <td>4.6</td>\n",
              "      <td>3.1</td>\n",
              "      <td>1.5</td>\n",
              "      <td>0.2</td>\n",
              "    </tr>\n",
              "    <tr>\n",
              "      <th>4</th>\n",
              "      <td>5.0</td>\n",
              "      <td>3.6</td>\n",
              "      <td>1.4</td>\n",
              "      <td>0.2</td>\n",
              "    </tr>\n",
              "  </tbody>\n",
              "</table>\n",
              "</div>\n",
              "      <button class=\"colab-df-convert\" onclick=\"convertToInteractive('df-1c83bde8-12fc-486f-844b-c492a489eed0')\"\n",
              "              title=\"Convert this dataframe to an interactive table.\"\n",
              "              style=\"display:none;\">\n",
              "        \n",
              "  <svg xmlns=\"http://www.w3.org/2000/svg\" height=\"24px\"viewBox=\"0 0 24 24\"\n",
              "       width=\"24px\">\n",
              "    <path d=\"M0 0h24v24H0V0z\" fill=\"none\"/>\n",
              "    <path d=\"M18.56 5.44l.94 2.06.94-2.06 2.06-.94-2.06-.94-.94-2.06-.94 2.06-2.06.94zm-11 1L8.5 8.5l.94-2.06 2.06-.94-2.06-.94L8.5 2.5l-.94 2.06-2.06.94zm10 10l.94 2.06.94-2.06 2.06-.94-2.06-.94-.94-2.06-.94 2.06-2.06.94z\"/><path d=\"M17.41 7.96l-1.37-1.37c-.4-.4-.92-.59-1.43-.59-.52 0-1.04.2-1.43.59L10.3 9.45l-7.72 7.72c-.78.78-.78 2.05 0 2.83L4 21.41c.39.39.9.59 1.41.59.51 0 1.02-.2 1.41-.59l7.78-7.78 2.81-2.81c.8-.78.8-2.07 0-2.86zM5.41 20L4 18.59l7.72-7.72 1.47 1.35L5.41 20z\"/>\n",
              "  </svg>\n",
              "      </button>\n",
              "      \n",
              "  <style>\n",
              "    .colab-df-container {\n",
              "      display:flex;\n",
              "      flex-wrap:wrap;\n",
              "      gap: 12px;\n",
              "    }\n",
              "\n",
              "    .colab-df-convert {\n",
              "      background-color: #E8F0FE;\n",
              "      border: none;\n",
              "      border-radius: 50%;\n",
              "      cursor: pointer;\n",
              "      display: none;\n",
              "      fill: #1967D2;\n",
              "      height: 32px;\n",
              "      padding: 0 0 0 0;\n",
              "      width: 32px;\n",
              "    }\n",
              "\n",
              "    .colab-df-convert:hover {\n",
              "      background-color: #E2EBFA;\n",
              "      box-shadow: 0px 1px 2px rgba(60, 64, 67, 0.3), 0px 1px 3px 1px rgba(60, 64, 67, 0.15);\n",
              "      fill: #174EA6;\n",
              "    }\n",
              "\n",
              "    [theme=dark] .colab-df-convert {\n",
              "      background-color: #3B4455;\n",
              "      fill: #D2E3FC;\n",
              "    }\n",
              "\n",
              "    [theme=dark] .colab-df-convert:hover {\n",
              "      background-color: #434B5C;\n",
              "      box-shadow: 0px 1px 3px 1px rgba(0, 0, 0, 0.15);\n",
              "      filter: drop-shadow(0px 1px 2px rgba(0, 0, 0, 0.3));\n",
              "      fill: #FFFFFF;\n",
              "    }\n",
              "  </style>\n",
              "\n",
              "      <script>\n",
              "        const buttonEl =\n",
              "          document.querySelector('#df-1c83bde8-12fc-486f-844b-c492a489eed0 button.colab-df-convert');\n",
              "        buttonEl.style.display =\n",
              "          google.colab.kernel.accessAllowed ? 'block' : 'none';\n",
              "\n",
              "        async function convertToInteractive(key) {\n",
              "          const element = document.querySelector('#df-1c83bde8-12fc-486f-844b-c492a489eed0');\n",
              "          const dataTable =\n",
              "            await google.colab.kernel.invokeFunction('convertToInteractive',\n",
              "                                                     [key], {});\n",
              "          if (!dataTable) return;\n",
              "\n",
              "          const docLinkHtml = 'Like what you see? Visit the ' +\n",
              "            '<a target=\"_blank\" href=https://colab.research.google.com/notebooks/data_table.ipynb>data table notebook</a>'\n",
              "            + ' to learn more about interactive tables.';\n",
              "          element.innerHTML = '';\n",
              "          dataTable['output_type'] = 'display_data';\n",
              "          await google.colab.output.renderOutput(dataTable, element);\n",
              "          const docLink = document.createElement('div');\n",
              "          docLink.innerHTML = docLinkHtml;\n",
              "          element.appendChild(docLink);\n",
              "        }\n",
              "      </script>\n",
              "    </div>\n",
              "  </div>\n",
              "  "
            ],
            "text/plain": [
              "    f1   f2   f3   f4\n",
              "0  5.1  3.5  1.4  0.2\n",
              "1  4.9  3.0  1.4  0.2\n",
              "2  4.7  3.2  1.3  0.2\n",
              "3  4.6  3.1  1.5  0.2\n",
              "4  5.0  3.6  1.4  0.2"
            ]
          },
          "metadata": {},
          "execution_count": 89
        }
      ]
    },
    {
      "cell_type": "code",
      "metadata": {
        "id": "Iso1-jD5XwZ3",
        "colab": {
          "base_uri": "https://localhost:8080/",
          "height": 286
        },
        "outputId": "c099773f-a888-4ae9-ea05-967eb2bb1e16"
      },
      "source": [
        "class KMeans:\n",
        "  def __init__(self,data, K):\n",
        "    self.K=K\n",
        "    #self.epsilon=epsilon\n",
        "    self.max_iterations = 100\n",
        "    self.size_examples=data.shape[0]\n",
        "    self.size_features=data.shape[1]\n",
        "    self.plot_figure = True\n",
        "\n",
        "\n",
        "  def initialize(self, X):\n",
        "    \"\"\"\n",
        "    Initilize K random Centroids\n",
        "    \"\"\"\n",
        "    centroids = np.zeros((self.K, self.size_features))\n",
        "    for k in range(self.K):\n",
        "        centroid = X[np.random.choice(range(self.size_examples))]\n",
        "        centroids[k] = centroid\n",
        "\n",
        "    return centroids\n",
        "\n",
        "  def Classify(self, X, centroids):\n",
        "    \"\"\"\n",
        "    Classify item to the cluster with minimum distance \n",
        "\n",
        "    \"\"\"\n",
        "    clusters = [[] for _ in range(self.K)]\n",
        "\n",
        " \n",
        "    for point_idx, point in enumerate(X):\n",
        "        closest_centroid = np.argmin(\n",
        "            np.sqrt(np.sum((point - centroids) ** 2, axis=1))\n",
        "        )\n",
        "        clusters[closest_centroid].append(point_idx)\n",
        "\n",
        "    return clusters\n",
        "\n",
        "  def update_centroids(self, clusters, X):\n",
        "    centroids = np.zeros((self.K, self.size_features))\n",
        "    for idx, cluster in enumerate(clusters):\n",
        "      new_centroid = np.mean(X[cluster], axis=0)\n",
        "      centroids[idx] = new_centroid\n",
        "\n",
        "    return centroids\n",
        "\n",
        "    \"\"\"\n",
        "    Calculate the new means\n",
        "    \n",
        "    \"\"\"\n",
        "    return \n",
        "\n",
        "  def predict_cluster(self, clusters, X):\n",
        "      y_pred = np.zeros(self.size_examples)\n",
        "\n",
        "      for cluster_idx, cluster in enumerate(clusters):\n",
        "          for sample_idx in cluster:\n",
        "              y_pred[sample_idx] = cluster_idx\n",
        "\n",
        "      return y_pred\n",
        "\n",
        "\n",
        "  def plot_fig(self, X, y):\n",
        "    plt.scatter(X[:, 0], X[:, 1],c=y, s=40, cmap=plt.cm.Spectral)\n",
        "    plt.show()\n",
        "\n",
        "  def fit(self, X):\n",
        "      centroids = self.initialize( X)\n",
        "\n",
        "      for it in range(self.max_iterations):\n",
        "          clusters = self.Classify(X, centroids)\n",
        "\n",
        "          previous_centroids = centroids\n",
        "          centroids = self.update_centroids(clusters, X)\n",
        "\n",
        "          diff = centroids - previous_centroids\n",
        "\n",
        "          if not diff.any():\n",
        "              print(\"Termination criterion satisfied\")\n",
        "              break\n",
        "\n",
        "              #Get label predictions\n",
        "      y_pred = self.predict_cluster(clusters, X)\n",
        "      # if self.plot_figure:\n",
        "      self.plot_fig(X, y_pred)\n",
        "\n",
        "        # return y_pred\n",
        "\n",
        "\n",
        " \n",
        "if __name__ == \"__main__\":\n",
        "\n",
        "    Kmeans = KMeans(data.values,2 )\n",
        "    y_pred = Kmeans.fit(data.values)\n",
        " \n",
        "    \n"
      ],
      "execution_count": null,
      "outputs": [
        {
          "output_type": "stream",
          "name": "stdout",
          "text": [
            "Termination criterion satisfied\n"
          ]
        },
        {
          "output_type": "display_data",
          "data": {
            "image/png": "[encoded data removed]",
            "text/plain": [
              "<Figure size 432x288 with 1 Axes>"
            ]
          },
          "metadata": {
            "needs_background": "light"
          }
        }
      ]
    },
    {
      "cell_type": "code",
      "source": [
        "def PCA(data, k):\n",
        "  x = np.array(data)\n",
        "  \n",
        "  # step 1: calculate the Mean normalization of x\n",
        "\n",
        "  standard=(x-np.mean(x,axis=0))#/data.std(axis=0)\n",
        "\n",
        "  # step 2: calculate covariance matrix from the normalized_x\n",
        "  cov=np.cov(standard, rowvar = False)\n",
        "  # make the parameter rowvar = False; check the documentation of np.cov to see why..\n",
        "\n",
        "  # step 3: compute the eigen values and eigen vectors\n",
        "  values,vectors=np.linalg.eigh(cov)\n",
        "  # step 4: sort the eigen values in \"descending\" order, then use this sorted indicies to sort the eigen vectors\n",
        "\n",
        "  #sort_values=np.sort(values,axis=None)\n",
        "  sort_value=np.argsort(values)\n",
        "  sort_vec=vectors[sort_value]\n",
        "  k_eigenvec=sort_vec[:,k:]\n",
        "  #   # step 6: transform the data\n",
        "  data1=standard@k_eigenvec\n",
        "  return data1 "
      ],
      "metadata": {
        "id": "Epy1XZlqWBcI"
      },
      "execution_count": null,
      "outputs": []
    },
    {
      "cell_type": "code",
      "source": [
        ""
      ],
      "metadata": {
        "id": "s-r7oYy2SDyv"
      },
      "execution_count": null,
      "outputs": []
    },
    {
      "cell_type": "code",
      "source": [
        ""
      ],
      "metadata": {
        "id": "U3JAYeHbQ7zj"
      },
      "execution_count": null,
      "outputs": []
    },
    {
      "cell_type": "code",
      "source": [
        "k = 2\n",
        " # reduce the data dimensionality to 2\n",
        "z = PCA(data, k)\n",
        "principal_df = pd.DataFrame(z, columns=['PC1', 'PC2'])\n",
        "principal_df.head()"
      ],
      "metadata": {
        "colab": {
          "base_uri": "https://localhost:8080/",
          "height": 206
        },
        "id": "pTLgswtbyQCu",
        "outputId": "94e729fc-411d-498a-86ba-c0d703a537fd"
      },
      "execution_count": null,
      "outputs": [
        {
          "output_type": "execute_result",
          "data": {
            "text/html": [
              "\n",
              "  <div id=\"df-88db2ae5-6bff-40b1-9572-84072a24d5df\">\n",
              "    <div class=\"colab-df-container\">\n",
              "      <div>\n",
              "<style scoped>\n",
              "    .dataframe tbody tr th:only-of-type {\n",
              "        vertical-align: middle;\n",
              "    }\n",
              "\n",
              "    .dataframe tbody tr th {\n",
              "        vertical-align: top;\n",
              "    }\n",
              "\n",
              "    .dataframe thead th {\n",
              "        text-align: right;\n",
              "    }\n",
              "</style>\n",
              "<table border=\"1\" class=\"dataframe\">\n",
              "  <thead>\n",
              "    <tr style=\"text-align: right;\">\n",
              "      <th></th>\n",
              "      <th>PC1</th>\n",
              "      <th>PC2</th>\n",
              "    </tr>\n",
              "  </thead>\n",
              "  <tbody>\n",
              "    <tr>\n",
              "      <th>0</th>\n",
              "      <td>0.319397</td>\n",
              "      <td>2.684126</td>\n",
              "    </tr>\n",
              "    <tr>\n",
              "      <th>1</th>\n",
              "      <td>-0.177001</td>\n",
              "      <td>2.714142</td>\n",
              "    </tr>\n",
              "    <tr>\n",
              "      <th>2</th>\n",
              "      <td>-0.144949</td>\n",
              "      <td>2.888991</td>\n",
              "    </tr>\n",
              "    <tr>\n",
              "      <th>3</th>\n",
              "      <td>-0.318299</td>\n",
              "      <td>2.745343</td>\n",
              "    </tr>\n",
              "    <tr>\n",
              "      <th>4</th>\n",
              "      <td>0.326755</td>\n",
              "      <td>2.728717</td>\n",
              "    </tr>\n",
              "  </tbody>\n",
              "</table>\n",
              "</div>\n",
              "      <button class=\"colab-df-convert\" onclick=\"convertToInteractive('df-88db2ae5-6bff-40b1-9572-84072a24d5df')\"\n",
              "              title=\"Convert this dataframe to an interactive table.\"\n",
              "              style=\"display:none;\">\n",
              "        \n",
              "  <svg xmlns=\"http://www.w3.org/2000/svg\" height=\"24px\"viewBox=\"0 0 24 24\"\n",
              "       width=\"24px\">\n",
              "    <path d=\"M0 0h24v24H0V0z\" fill=\"none\"/>\n",
              "    <path d=\"M18.56 5.44l.94 2.06.94-2.06 2.06-.94-2.06-.94-.94-2.06-.94 2.06-2.06.94zm-11 1L8.5 8.5l.94-2.06 2.06-.94-2.06-.94L8.5 2.5l-.94 2.06-2.06.94zm10 10l.94 2.06.94-2.06 2.06-.94-2.06-.94-.94-2.06-.94 2.06-2.06.94z\"/><path d=\"M17.41 7.96l-1.37-1.37c-.4-.4-.92-.59-1.43-.59-.52 0-1.04.2-1.43.59L10.3 9.45l-7.72 7.72c-.78.78-.78 2.05 0 2.83L4 21.41c.39.39.9.59 1.41.59.51 0 1.02-.2 1.41-.59l7.78-7.78 2.81-2.81c.8-.78.8-2.07 0-2.86zM5.41 20L4 18.59l7.72-7.72 1.47 1.35L5.41 20z\"/>\n",
              "  </svg>\n",
              "      </button>\n",
              "      \n",
              "  <style>\n",
              "    .colab-df-container {\n",
              "      display:flex;\n",
              "      flex-wrap:wrap;\n",
              "      gap: 12px;\n",
              "    }\n",
              "\n",
              "    .colab-df-convert {\n",
              "      background-color: #E8F0FE;\n",
              "      border: none;\n",
              "      border-radius: 50%;\n",
              "      cursor: pointer;\n",
              "      display: none;\n",
              "      fill: #1967D2;\n",
              "      height: 32px;\n",
              "      padding: 0 0 0 0;\n",
              "      width: 32px;\n",
              "    }\n",
              "\n",
              "    .colab-df-convert:hover {\n",
              "      background-color: #E2EBFA;\n",
              "      box-shadow: 0px 1px 2px rgba(60, 64, 67, 0.3), 0px 1px 3px 1px rgba(60, 64, 67, 0.15);\n",
              "      fill: #174EA6;\n",
              "    }\n",
              "\n",
              "    [theme=dark] .colab-df-convert {\n",
              "      background-color: #3B4455;\n",
              "      fill: #D2E3FC;\n",
              "    }\n",
              "\n",
              "    [theme=dark] .colab-df-convert:hover {\n",
              "      background-color: #434B5C;\n",
              "      box-shadow: 0px 1px 3px 1px rgba(0, 0, 0, 0.15);\n",
              "      filter: drop-shadow(0px 1px 2px rgba(0, 0, 0, 0.3));\n",
              "      fill: #FFFFFF;\n",
              "    }\n",
              "  </style>\n",
              "\n",
              "      <script>\n",
              "        const buttonEl =\n",
              "          document.querySelector('#df-88db2ae5-6bff-40b1-9572-84072a24d5df button.colab-df-convert');\n",
              "        buttonEl.style.display =\n",
              "          google.colab.kernel.accessAllowed ? 'block' : 'none';\n",
              "\n",
              "        async function convertToInteractive(key) {\n",
              "          const element = document.querySelector('#df-88db2ae5-6bff-40b1-9572-84072a24d5df');\n",
              "          const dataTable =\n",
              "            await google.colab.kernel.invokeFunction('convertToInteractive',\n",
              "                                                     [key], {});\n",
              "          if (!dataTable) return;\n",
              "\n",
              "          const docLinkHtml = 'Like what you see? Visit the ' +\n",
              "            '<a target=\"_blank\" href=https://colab.research.google.com/notebooks/data_table.ipynb>data table notebook</a>'\n",
              "            + ' to learn more about interactive tables.';\n",
              "          element.innerHTML = '';\n",
              "          dataTable['output_type'] = 'display_data';\n",
              "          await google.colab.output.renderOutput(dataTable, element);\n",
              "          const docLink = document.createElement('div');\n",
              "          docLink.innerHTML = docLinkHtml;\n",
              "          element.appendChild(docLink);\n",
              "        }\n",
              "      </script>\n",
              "    </div>\n",
              "  </div>\n",
              "  "
            ],
            "text/plain": [
              "        PC1       PC2\n",
              "0  0.319397  2.684126\n",
              "1 -0.177001  2.714142\n",
              "2 -0.144949  2.888991\n",
              "3 -0.318299  2.745343\n",
              "4  0.326755  2.728717"
            ]
          },
          "metadata": {},
          "execution_count": 82
        }
      ]
    },
    {
      "cell_type": "code",
      "source": [
        "kmn = KMeans(\n",
        "    n_clusters=1, init='random',\n",
        "    n_init=10, max_iter=300, \n",
        "    random_state=0\n",
        ")\n",
        "y_km = kmn.fit_predict(principal_df)\n",
        "\n",
        "### Elbow Method ###\n",
        "distortions = []\n",
        "for i in range(1, 10):\n",
        "    kmn = KMeans(\n",
        "        n_clusters=i, init='random',\n",
        "        n_init=10, max_iter=300,\n",
        "        random_state=0\n",
        "    )\n",
        "    kmn.fit(principal_df)\n",
        "    distortions.append(kmn.inertia_)\n",
        "\n",
        "# plot\n",
        "plt.plot(range(1, 10), distortions, marker='o')\n",
        "plt.xlabel('Number of clusters')\n",
        "plt.ylabel('Distortion')\n",
        "plt.show()"
      ],
      "metadata": {
        "colab": {
          "base_uri": "https://localhost:8080/",
          "height": 279
        },
        "id": "nwcVU8SkTAVR",
        "outputId": "6606941d-b452-48bd-e3dd-31acf8c8fc37"
      },
      "execution_count": null,
      "outputs": [
        {
          "output_type": "display_data",
          "data": {
            "image/png": "[encoded data removed]",
            "text/plain": [
              "<Figure size 432x288 with 1 Axes>"
            ]
          },
          "metadata": {
            "needs_background": "light"
          }
        }
      ]
    },
    {
      "cell_type": "code",
      "source": [
        "# From our elbow method, obtaining two clusters will be fine\n",
        "Kmeans = KMeans(principal_df.values,2 )\n",
        "y_pred = Kmeans.fit(principal_df.values)"
      ],
      "metadata": {
        "colab": {
          "base_uri": "https://localhost:8080/",
          "height": 283
        },
        "id": "YzkTY6mW1W8l",
        "outputId": "a2a3cf5e-c37c-42c5-bc92-0d4cab782cca"
      },
      "execution_count": null,
      "outputs": [
        {
          "output_type": "stream",
          "name": "stdout",
          "text": [
            "Termination criterion satisfied\n"
          ]
        },
        {
          "output_type": "display_data",
          "data": {
            "image/png": "[encoded data removed]",
            "text/plain": [
              "<Figure size 432x288 with 1 Axes>"
            ]
          },
          "metadata": {
            "needs_background": "light"
          }
        }
      ]
    },
    {
      "cell_type": "code",
      "metadata": {
        "id": "-NJn8pwnlchE"
      },
      "source": [
        "#Initialize your class and fit on the data\n"
      ],
      "execution_count": null,
      "outputs": []
    },
    {
      "cell_type": "code",
      "metadata": {
        "id": "1ROyZB0ulcfc"
      },
      "source": [
        "#perform PCA reduction to obtain two dimesional version of the data suitable for visulization"
      ],
      "execution_count": null,
      "outputs": []
    },
    {
      "cell_type": "code",
      "source": [
        "#Tune your k Value and visulize the resulting centroids\n",
        "#Friday before class "
      ],
      "metadata": {
        "id": "-LfuAkbMMEuT"
      },
      "execution_count": null,
      "outputs": []
    }
  ]
}