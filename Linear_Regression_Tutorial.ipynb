{
  "nbformat": 4,
  "nbformat_minor": 0,
  "metadata": {
    "colab": {
      "name": "Linear Regression Tutorial.ipynb",
      "provenance": [],
      "collapsed_sections": []
    },
    "kernelspec": {
      "name": "python3",
      "display_name": "Python 3"
    },
    "language_info": {
      "name": "python"
    }
  },
  "cells": [
    {
      "cell_type": "code",
      "execution_count": null,
      "metadata": {
        "id": "lpO8Roo99Fys"
      },
      "outputs": [],
      "source": [
        "import numpy as np\n",
        "import pandas as pd"
      ]
    },
    {
      "cell_type": "markdown",
      "source": [
        "* Please implement the following tasks:"
      ],
      "metadata": {
        "id": "sWsQ04OK-63J"
      }
    },
    {
      "cell_type": "markdown",
      "source": [
        "1. A csv file containing the dataset will be shared, download it and upload it."
      ],
      "metadata": {
        "id": "yhJ1nV9Y9UIU"
      }
    },
    {
      "cell_type": "markdown",
      "source": [
        "2. Read the csv file using Pandas."
      ],
      "metadata": {
        "id": "YfIQQGRQ-5W4"
      }
    },
    {
      "cell_type": "code",
      "source": [
        "my_path = \"/content/classwork-data.csv\" # write the path of the data file here\n",
        "data = pd.read_csv(my_path)"
      ],
      "metadata": {
        "id": "c2Q8nMwXCWlS"
      },
      "execution_count": null,
      "outputs": []
    },
    {
      "cell_type": "code",
      "source": [
        "data.head()"
      ],
      "metadata": {
        "id": "rgyuWm484Qiw",
        "colab": {
          "base_uri": "https://localhost:8080/",
          "height": 250
        },
        "outputId": "2b40dc19-d0ba-4280-fc56-451cefb63d6c"
      },
      "execution_count": null,
      "outputs": [
        {
          "output_type": "execute_result",
          "data": {
            "text/html": [
              "\n",
              "  <div id=\"df-34386120-e170-4a35-8054-70b415a8c9c7\">\n",
              "    <div class=\"colab-df-container\">\n",
              "      <div>\n",
              "<style scoped>\n",
              "    .dataframe tbody tr th:only-of-type {\n",
              "        vertical-align: middle;\n",
              "    }\n",
              "\n",
              "    .dataframe tbody tr th {\n",
              "        vertical-align: top;\n",
              "    }\n",
              "\n",
              "    .dataframe thead th {\n",
              "        text-align: right;\n",
              "    }\n",
              "</style>\n",
              "<table border=\"1\" class=\"dataframe\">\n",
              "  <thead>\n",
              "    <tr style=\"text-align: right;\">\n",
              "      <th></th>\n",
              "      <th>Unnamed: 0</th>\n",
              "      <th>col1</th>\n",
              "      <th>col2</th>\n",
              "      <th>col3</th>\n",
              "      <th>col4</th>\n",
              "      <th>target</th>\n",
              "    </tr>\n",
              "  </thead>\n",
              "  <tbody>\n",
              "    <tr>\n",
              "      <th>0</th>\n",
              "      <td>0</td>\n",
              "      <td>1.0</td>\n",
              "      <td>73.847017</td>\n",
              "      <td>5453.381922</td>\n",
              "      <td>402715.987625</td>\n",
              "      <td>241.893563</td>\n",
              "    </tr>\n",
              "    <tr>\n",
              "      <th>1</th>\n",
              "      <td>1</td>\n",
              "      <td>1.0</td>\n",
              "      <td>68.781904</td>\n",
              "      <td>4730.950324</td>\n",
              "      <td>325403.771243</td>\n",
              "      <td>162.310473</td>\n",
              "    </tr>\n",
              "    <tr>\n",
              "      <th>2</th>\n",
              "      <td>2</td>\n",
              "      <td>1.0</td>\n",
              "      <td>74.110105</td>\n",
              "      <td>5492.307721</td>\n",
              "      <td>407035.504061</td>\n",
              "      <td>212.740856</td>\n",
              "    </tr>\n",
              "    <tr>\n",
              "      <th>3</th>\n",
              "      <td>3</td>\n",
              "      <td>1.0</td>\n",
              "      <td>71.730978</td>\n",
              "      <td>5145.333263</td>\n",
              "      <td>369079.789145</td>\n",
              "      <td>220.042470</td>\n",
              "    </tr>\n",
              "    <tr>\n",
              "      <th>4</th>\n",
              "      <td>4</td>\n",
              "      <td>1.0</td>\n",
              "      <td>69.881796</td>\n",
              "      <td>4883.465393</td>\n",
              "      <td>341265.331673</td>\n",
              "      <td>206.349801</td>\n",
              "    </tr>\n",
              "  </tbody>\n",
              "</table>\n",
              "</div>\n",
              "      <button class=\"colab-df-convert\" onclick=\"convertToInteractive('df-34386120-e170-4a35-8054-70b415a8c9c7')\"\n",
              "              title=\"Convert this dataframe to an interactive table.\"\n",
              "              style=\"display:none;\">\n",
              "        \n",
              "  <svg xmlns=\"http://www.w3.org/2000/svg\" height=\"24px\"viewBox=\"0 0 24 24\"\n",
              "       width=\"24px\">\n",
              "    <path d=\"M0 0h24v24H0V0z\" fill=\"none\"/>\n",
              "    <path d=\"M18.56 5.44l.94 2.06.94-2.06 2.06-.94-2.06-.94-.94-2.06-.94 2.06-2.06.94zm-11 1L8.5 8.5l.94-2.06 2.06-.94-2.06-.94L8.5 2.5l-.94 2.06-2.06.94zm10 10l.94 2.06.94-2.06 2.06-.94-2.06-.94-.94-2.06-.94 2.06-2.06.94z\"/><path d=\"M17.41 7.96l-1.37-1.37c-.4-.4-.92-.59-1.43-.59-.52 0-1.04.2-1.43.59L10.3 9.45l-7.72 7.72c-.78.78-.78 2.05 0 2.83L4 21.41c.39.39.9.59 1.41.59.51 0 1.02-.2 1.41-.59l7.78-7.78 2.81-2.81c.8-.78.8-2.07 0-2.86zM5.41 20L4 18.59l7.72-7.72 1.47 1.35L5.41 20z\"/>\n",
              "  </svg>\n",
              "      </button>\n",
              "      \n",
              "  <style>\n",
              "    .colab-df-container {\n",
              "      display:flex;\n",
              "      flex-wrap:wrap;\n",
              "      gap: 12px;\n",
              "    }\n",
              "\n",
              "    .colab-df-convert {\n",
              "      background-color: #E8F0FE;\n",
              "      border: none;\n",
              "      border-radius: 50%;\n",
              "      cursor: pointer;\n",
              "      display: none;\n",
              "      fill: #1967D2;\n",
              "      height: 32px;\n",
              "      padding: 0 0 0 0;\n",
              "      width: 32px;\n",
              "    }\n",
              "\n",
              "    .colab-df-convert:hover {\n",
              "      background-color: #E2EBFA;\n",
              "      box-shadow: 0px 1px 2px rgba(60, 64, 67, 0.3), 0px 1px 3px 1px rgba(60, 64, 67, 0.15);\n",
              "      fill: #174EA6;\n",
              "    }\n",
              "\n",
              "    [theme=dark] .colab-df-convert {\n",
              "      background-color: #3B4455;\n",
              "      fill: #D2E3FC;\n",
              "    }\n",
              "\n",
              "    [theme=dark] .colab-df-convert:hover {\n",
              "      background-color: #434B5C;\n",
              "      box-shadow: 0px 1px 3px 1px rgba(0, 0, 0, 0.15);\n",
              "      filter: drop-shadow(0px 1px 2px rgba(0, 0, 0, 0.3));\n",
              "      fill: #FFFFFF;\n",
              "    }\n",
              "  </style>\n",
              "\n",
              "      <script>\n",
              "        const buttonEl =\n",
              "          document.querySelector('#df-34386120-e170-4a35-8054-70b415a8c9c7 button.colab-df-convert');\n",
              "        buttonEl.style.display =\n",
              "          google.colab.kernel.accessAllowed ? 'block' : 'none';\n",
              "\n",
              "        async function convertToInteractive(key) {\n",
              "          const element = document.querySelector('#df-34386120-e170-4a35-8054-70b415a8c9c7');\n",
              "          const dataTable =\n",
              "            await google.colab.kernel.invokeFunction('convertToInteractive',\n",
              "                                                     [key], {});\n",
              "          if (!dataTable) return;\n",
              "\n",
              "          const docLinkHtml = 'Like what you see? Visit the ' +\n",
              "            '<a target=\"_blank\" href=https://colab.research.google.com/notebooks/data_table.ipynb>data table notebook</a>'\n",
              "            + ' to learn more about interactive tables.';\n",
              "          element.innerHTML = '';\n",
              "          dataTable['output_type'] = 'display_data';\n",
              "          await google.colab.output.renderOutput(dataTable, element);\n",
              "          const docLink = document.createElement('div');\n",
              "          docLink.innerHTML = docLinkHtml;\n",
              "          element.appendChild(docLink);\n",
              "        }\n",
              "      </script>\n",
              "    </div>\n",
              "  </div>\n",
              "  "
            ],
            "text/plain": [
              "   Unnamed: 0  col1       col2         col3           col4      target\n",
              "0           0   1.0  73.847017  5453.381922  402715.987625  241.893563\n",
              "1           1   1.0  68.781904  4730.950324  325403.771243  162.310473\n",
              "2           2   1.0  74.110105  5492.307721  407035.504061  212.740856\n",
              "3           3   1.0  71.730978  5145.333263  369079.789145  220.042470\n",
              "4           4   1.0  69.881796  4883.465393  341265.331673  206.349801"
            ]
          },
          "metadata": {},
          "execution_count": 3
        }
      ]
    },
    {
      "cell_type": "markdown",
      "source": [
        "3. Create a variable X for the input columns (col1, col2, col3, col4)."
      ],
      "metadata": {
        "id": "CzwBx2kmDTEO"
      }
    },
    {
      "cell_type": "code",
      "source": [
        "X = data.iloc[:,1:-1].values"
      ],
      "metadata": {
        "id": "l5fYQYVBDKVW"
      },
      "execution_count": null,
      "outputs": []
    },
    {
      "cell_type": "code",
      "source": [
        "X.shape"
      ],
      "metadata": {
        "colab": {
          "base_uri": "https://localhost:8080/"
        },
        "id": "PZTdH3JL2Wrn",
        "outputId": "5628daa8-d652-47e7-a806-f1c9aa5b1dfb"
      },
      "execution_count": null,
      "outputs": [
        {
          "output_type": "execute_result",
          "data": {
            "text/plain": [
              "(10000, 4)"
            ]
          },
          "metadata": {},
          "execution_count": 5
        }
      ]
    },
    {
      "cell_type": "markdown",
      "source": [
        "4. Create a variable Y for the output column (target)."
      ],
      "metadata": {
        "id": "tnWjO0oQErwW"
      }
    },
    {
      "cell_type": "code",
      "source": [
        "Y  = data.iloc[:,-1].values"
      ],
      "metadata": {
        "id": "oVxovq0QE8ft"
      },
      "execution_count": null,
      "outputs": []
    },
    {
      "cell_type": "code",
      "source": [
        "Y"
      ],
      "metadata": {
        "colab": {
          "base_uri": "https://localhost:8080/"
        },
        "id": "m-2W-Z9S2wn3",
        "outputId": "94d1b141-9bc8-43f9-b223-f3b250b0e317"
      },
      "execution_count": null,
      "outputs": [
        {
          "output_type": "execute_result",
          "data": {
            "text/plain": [
              "array([241.89356318, 162.31047252, 212.74085556, ..., 128.47531878,\n",
              "       163.85246135, 113.64910268])"
            ]
          },
          "metadata": {},
          "execution_count": 8
        }
      ]
    },
    {
      "cell_type": "code",
      "source": [
        "Y.shape"
      ],
      "metadata": {
        "colab": {
          "base_uri": "https://localhost:8080/"
        },
        "id": "giXOntNb22yN",
        "outputId": "6a6bc59d-2132-4493-80d1-c980cd4423c4"
      },
      "execution_count": null,
      "outputs": [
        {
          "output_type": "execute_result",
          "data": {
            "text/plain": [
              "(10000,)"
            ]
          },
          "metadata": {},
          "execution_count": 9
        }
      ]
    },
    {
      "cell_type": "code",
      "source": [
        "#################################################################################################################"
      ],
      "metadata": {
        "id": "gqQlEiEG3Kev"
      },
      "execution_count": null,
      "outputs": []
    },
    {
      "cell_type": "markdown",
      "source": [
        "5. Split the dataset into two sets, training and test sets.\n",
        "* check online [here](https://scikit-learn.org/stable/modules/generated/sklearn.model_selection.train_test_split.html) how to use the **train_test_split** function in the sklearn library."
      ],
      "metadata": {
        "id": "XB8hdptqFN2F"
      }
    },
    {
      "cell_type": "code",
      "source": [
        "# You need to find:   X_train, X_test, Y_train, Y_test\n",
        "from sklearn.model_selection import train_test_split\n",
        "X_train, X_test, Y_train, Y_test = train_test_split(X, Y, \n",
        "                                test_size=0.33, random_state=42)"
      ],
      "metadata": {
        "id": "o3-TGQDtFSHj"
      },
      "execution_count": null,
      "outputs": []
    },
    {
      "cell_type": "code",
      "source": [
        "X_train.shape"
      ],
      "metadata": {
        "colab": {
          "base_uri": "https://localhost:8080/"
        },
        "id": "9LJCfGbo5XyT",
        "outputId": "eb1186f8-9148-4bb5-d0b0-b1b22b15ba67"
      },
      "execution_count": null,
      "outputs": [
        {
          "output_type": "execute_result",
          "data": {
            "text/plain": [
              "(6700, 4)"
            ]
          },
          "metadata": {},
          "execution_count": 11
        }
      ]
    },
    {
      "cell_type": "code",
      "source": [
        "X_test.shape"
      ],
      "metadata": {
        "colab": {
          "base_uri": "https://localhost:8080/"
        },
        "id": "GIc-5XRH5cI5",
        "outputId": "34d66a23-1859-48dd-f5b3-7fd248adcf76"
      },
      "execution_count": null,
      "outputs": [
        {
          "output_type": "execute_result",
          "data": {
            "text/plain": [
              "(3300, 4)"
            ]
          },
          "metadata": {},
          "execution_count": 12
        }
      ]
    },
    {
      "cell_type": "code",
      "source": [
        "#################################################################################################################"
      ],
      "metadata": {
        "id": "N-0ZbhLJ3NV-"
      },
      "execution_count": null,
      "outputs": []
    },
    {
      "cell_type": "markdown",
      "source": [
        "6. Use Mean squared error to report the performance of the linear regression model."
      ],
      "metadata": {
        "id": "ReOn2cPsMnZw"
      }
    },
    {
      "cell_type": "markdown",
      "source": [
        "$$\n",
        "MSE = \\frac{\\sum{(target - prediction)^2}}{n}\n",
        "$$"
      ],
      "metadata": {
        "id": "VbuJOlY0wFWu"
      }
    },
    {
      "cell_type": "code",
      "source": [
        "# define the MSE fun\n",
        "def MSE(y_true, y_pred):\n",
        "  # calculate the MSE and return it\n",
        "  n = len(y_true)\n",
        "  mse = 1/n*np.sum((y_true-y_pred)**2)\n",
        "  return mse"
      ],
      "metadata": {
        "id": "unYqUDO9M1fh"
      },
      "execution_count": null,
      "outputs": []
    },
    {
      "cell_type": "code",
      "source": [
        "#################################################################################################################"
      ],
      "metadata": {
        "id": "gKZCEGVv3Omi"
      },
      "execution_count": null,
      "outputs": []
    },
    {
      "cell_type": "markdown",
      "source": [
        "7. Implement function MLE, that computes the maximum likelihood estimator for the given data."
      ],
      "metadata": {
        "id": "J0EQrxBINsfO"
      }
    },
    {
      "cell_type": "markdown",
      "source": [
        "Calculate the model parameter using the closed form solution as indicated in the following equation:\n",
        "\n",
        "$$\n",
        "\\boldsymbol w = (\\boldsymbol X^T\\boldsymbol X)^{-1}\\boldsymbol X^T\\boldsymbol Y\n",
        "$$\n",
        "\n",
        "X is the inputs, and Y is the targets"
      ],
      "metadata": {
        "id": "K6VpvJ_yxS59"
      }
    },
    {
      "cell_type": "code",
      "source": [
        "def NormalEquation(inputs, targets):\n",
        "  # calculate the parameter w and return it\n",
        "  w = np.linalg.inv((inputs.T@inputs))@inputs.T@targets\n",
        "  return w"
      ],
      "metadata": {
        "id": "IkaV15sENl89"
      },
      "execution_count": null,
      "outputs": []
    },
    {
      "cell_type": "code",
      "source": [
        "#################################################################################################################"
      ],
      "metadata": {
        "id": "N2c2uYaD3R3E"
      },
      "execution_count": null,
      "outputs": []
    },
    {
      "cell_type": "markdown",
      "source": [
        "Lets evaluate the model by taking one example from the test data, and then calculate the MSE between the model prediction and the target."
      ],
      "metadata": {
        "id": "7oKTKSDG3Se7"
      }
    },
    {
      "cell_type": "code",
      "source": [
        "w = NormalEquation(X_train, Y_train)# All the parameter estimation should be done using \n",
        "                         # only the training data."
      ],
      "metadata": {
        "id": "sE8GItUrQRa4"
      },
      "execution_count": null,
      "outputs": []
    },
    {
      "cell_type": "code",
      "source": [
        "w.shape"
      ],
      "metadata": {
        "colab": {
          "base_uri": "https://localhost:8080/"
        },
        "id": "U82ekQb6Hm2n",
        "outputId": "432276fb-8273-4e19-cccb-989020353e8a"
      },
      "execution_count": null,
      "outputs": [
        {
          "output_type": "execute_result",
          "data": {
            "text/plain": [
              "(4,)"
            ]
          },
          "metadata": {},
          "execution_count": 17
        }
      ]
    },
    {
      "cell_type": "code",
      "source": [
        "Y_pred = X_test @ w"
      ],
      "metadata": {
        "id": "HEpVpoSNS0ll"
      },
      "execution_count": null,
      "outputs": []
    },
    {
      "cell_type": "code",
      "source": [
        "print(MSE(Y_test, Y_pred))"
      ],
      "metadata": {
        "id": "v5fmkYJ8TM4y",
        "colab": {
          "base_uri": "https://localhost:8080/"
        },
        "outputId": "fe38e578-5bdf-4fca-dbec-b3873fd8dea7"
      },
      "execution_count": null,
      "outputs": [
        {
          "output_type": "stream",
          "name": "stdout",
          "text": [
            "100.98823757290819\n"
          ]
        }
      ]
    },
    {
      "cell_type": "code",
      "source": [
        "#################################################################################################################"
      ],
      "metadata": {
        "id": "b1-uNqpF6PAK"
      },
      "execution_count": null,
      "outputs": []
    }
  ]
}